{
  "cells": [
    {
      "cell_type": "markdown",
      "metadata": {
        "id": "view-in-github",
        "colab_type": "text"
      },
      "source": [
        "<a href=\"https://colab.research.google.com/github/Samarthb1257/Lab_Project/blob/main/107_Samarth_py.ipynb\" target=\"_parent\"><img src=\"https://colab.research.google.com/assets/colab-badge.svg\" alt=\"Open In Colab\"/></a>"
      ]
    },
    {
      "cell_type": "code",
      "source": [
        "l1=[10,20,\"phyton\",94.5,314]\n",
        "l1.append(21)\n",
        "print(l1)\n",
        "\n"
      ],
      "metadata": {
        "id": "V66WIIiE-_36",
        "outputId": "d77baaa7-dcaf-4bda-a591-9eb365db0d17",
        "colab": {
          "base_uri": "https://localhost:8080/"
        }
      },
      "execution_count": null,
      "outputs": [
        {
          "output_type": "stream",
          "name": "stdout",
          "text": [
            "[10, 20, 'phyton', 94.5, 314, 21]\n"
          ]
        }
      ]
    },
    {
      "cell_type": "code",
      "source": [
        "l1=[10,20,30]\n",
        "l2=[15,35,45,55]\n",
        "l1.extend(l2)\n",
        "print(l1)"
      ],
      "metadata": {
        "colab": {
          "base_uri": "https://localhost:8080/"
        },
        "id": "TKr3N2V6AXpy",
        "outputId": "6facb6a7-154c-4af4-daf1-1084c699c0f0"
      },
      "execution_count": null,
      "outputs": [
        {
          "output_type": "stream",
          "name": "stdout",
          "text": [
            "[10, 20, 30, 15, 35, 45, 55]\n"
          ]
        }
      ]
    },
    {
      "cell_type": "code",
      "source": [
        "l1=[\"python\",\"java\",\"Essentials of Data science\"]\n",
        "print(l1)\n",
        "l1.insert(2,\"hadoop\")\n",
        "print(l1)\n"
      ],
      "metadata": {
        "colab": {
          "base_uri": "https://localhost:8080/"
        },
        "id": "Lx4mVtzzm9AI",
        "outputId": "f4f9c053-cc5b-421e-c926-2aa7e2714f03"
      },
      "execution_count": null,
      "outputs": [
        {
          "output_type": "stream",
          "name": "stdout",
          "text": [
            "['python', 'java', 'Essentials of Data science']\n",
            "['python', 'java', 'hadoop', 'Essentials of Data science']\n"
          ]
        }
      ]
    },
    {
      "cell_type": "code",
      "source": [
        "l1=[455,21.344,\"python\",25678]\n",
        "a=len(l1)\n",
        "print(a)"
      ],
      "metadata": {
        "id": "T9IKP2pxLTyQ",
        "outputId": "2926ab1d-96b4-4aa8-bb37-9165def45fde",
        "colab": {
          "base_uri": "https://localhost:8080/"
        }
      },
      "execution_count": null,
      "outputs": [
        {
          "output_type": "stream",
          "name": "stdout",
          "text": [
            "4\n"
          ]
        }
      ]
    },
    {
      "cell_type": "code",
      "source": [
        "import statistics\n",
        "l1=[1,2,3,3,2,2,2,1]\n",
        "print(statistics.mean(l1))"
      ],
      "metadata": {
        "id": "gaBxNseTKpQM",
        "outputId": "d536bba3-0881-408c-b2cd-4e80d7bffa7b",
        "colab": {
          "base_uri": "https://localhost:8080/"
        }
      },
      "execution_count": null,
      "outputs": [
        {
          "output_type": "stream",
          "name": "stdout",
          "text": [
            "2\n"
          ]
        }
      ]
    },
    {
      "cell_type": "code",
      "source": [
        "from statistics import median\n",
        "t1=(21,23,45,67)\n",
        "print(median(t1))"
      ],
      "metadata": {
        "id": "sx5KP7keLk6H",
        "outputId": "d0cf1241-7d52-4551-8574-f7057bff2570",
        "colab": {
          "base_uri": "https://localhost:8080/"
        }
      },
      "execution_count": null,
      "outputs": [
        {
          "output_type": "stream",
          "name": "stdout",
          "text": [
            "34.0\n"
          ]
        }
      ]
    },
    {
      "cell_type": "code",
      "source": [
        "import statistics\n",
        "set1=[1,2,8,4,5]\n",
        "print(\"Low Median of the set is \",(statistics.median_low(set1)))"
      ],
      "metadata": {
        "id": "3S7DFTiRL8p3",
        "outputId": "795a6596-68bb-473c-d021-fe5d566f1429",
        "colab": {
          "base_uri": "https://localhost:8080/"
        }
      },
      "execution_count": null,
      "outputs": [
        {
          "output_type": "stream",
          "name": "stdout",
          "text": [
            "Low Median of the set is  4\n"
          ]
        }
      ]
    },
    {
      "cell_type": "code",
      "source": [
        "import statistics\n",
        "set1=[1,3,3,4,5]\n",
        "print(\"high Median of the set is \",(statistics.median_high(set1)))"
      ],
      "metadata": {
        "id": "dIc4oIqjMZ3G",
        "outputId": "8b65fa74-36c6-401d-bb65-d480d72be743",
        "colab": {
          "base_uri": "https://localhost:8080/"
        }
      },
      "execution_count": null,
      "outputs": [
        {
          "output_type": "stream",
          "name": "stdout",
          "text": [
            "high Median of the set is  3\n"
          ]
        }
      ]
    },
    {
      "cell_type": "code",
      "source": [
        "from statistics import mode\n",
        "t1=(6,6,6,6,6,6,3,3,3,3,3,3,3,3,3,3,3,3,3,3,3,4,5,5,5,5,7)\n",
        "print(\"Mode of data set is \",(mode(t1)))"
      ],
      "metadata": {
        "id": "8yDC3HdVMvMA",
        "outputId": "1437d672-439e-4d17-e939-8a4607800cd6",
        "colab": {
          "base_uri": "https://localhost:8080/"
        }
      },
      "execution_count": null,
      "outputs": [
        {
          "output_type": "stream",
          "name": "stdout",
          "text": [
            "Mode of data set is  3\n"
          ]
        }
      ]
    },
    {
      "cell_type": "code",
      "source": [
        "arr=[1,2,3,4,5,]\n",
        "Maximum=max(arr)\n",
        "Minimum=min(arr)\n",
        "Range=Maximum-Minimum\n",
        "print(\"Maximum = {}, Minimum = {}, and Range = {}\".format(Maximum,Minimum,Range))"
      ],
      "metadata": {
        "id": "vjoW43GZNcud",
        "outputId": "07827d34-aaec-41a6-9dc4-8d105089688c",
        "colab": {
          "base_uri": "https://localhost:8080/"
        }
      },
      "execution_count": null,
      "outputs": [
        {
          "output_type": "stream",
          "name": "stdout",
          "text": [
            "Maximum = 5, Minimum = 1, and Range = 4\n"
          ]
        }
      ]
    },
    {
      "cell_type": "code",
      "source": [
        "from statistics import variance\n",
        "t1=(1,2,5,4,8,9,12)\n",
        "print(\"Variance of Sample1 is %s\",(variance(t1)))"
      ],
      "metadata": {
        "id": "T_gZynYyOenO",
        "outputId": "a1f831cc-6106-40a2-8895-6e3611683230",
        "colab": {
          "base_uri": "https://localhost:8080/"
        }
      },
      "execution_count": null,
      "outputs": [
        {
          "output_type": "stream",
          "name": "stdout",
          "text": [
            "Variance of Sample1 is %s 15.80952380952381\n"
          ]
        }
      ]
    },
    {
      "cell_type": "code",
      "source": [
        "from statistics import stdev\n",
        "s1=(1,2,5,4,8,9,12)\n",
        "print(\"Standard deviation of Sample1 is %s\",(stdev(s1)))"
      ],
      "metadata": {
        "id": "ughtfcQ0PXq6",
        "outputId": "36ace396-4cf6-420d-d442-2d00ac5eb4e9",
        "colab": {
          "base_uri": "https://localhost:8080/"
        }
      },
      "execution_count": null,
      "outputs": [
        {
          "output_type": "stream",
          "name": "stdout",
          "text": [
            "Standard deviation of Sample1 is %s 3.9761191895520196\n"
          ]
        }
      ]
    }
  ],
  "metadata": {
    "colab": {
      "provenance": [],
      "include_colab_link": true
    },
    "kernelspec": {
      "display_name": "Python 3",
      "name": "python3"
    }
  },
  "nbformat": 4,
  "nbformat_minor": 0
}