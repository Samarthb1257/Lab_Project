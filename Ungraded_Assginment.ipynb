{
  "nbformat": 4,
  "nbformat_minor": 0,
  "metadata": {
    "colab": {
      "provenance": [],
      "authorship_tag": "ABX9TyOPCHlx8esNXJ5KJXOD3Bqs",
      "include_colab_link": true
    },
    "kernelspec": {
      "name": "python3",
      "display_name": "Python 3"
    },
    "language_info": {
      "name": "python"
    }
  },
  "cells": [
    {
      "cell_type": "markdown",
      "metadata": {
        "id": "view-in-github",
        "colab_type": "text"
      },
      "source": [
        "<a href=\"https://colab.research.google.com/github/Samarthb1257/Lab_Project/blob/main/Ungraded_Assginment.ipynb\" target=\"_parent\"><img src=\"https://colab.research.google.com/assets/colab-badge.svg\" alt=\"Open In Colab\"/></a>"
      ]
    },
    {
      "cell_type": "code",
      "execution_count": null,
      "metadata": {
        "colab": {
          "base_uri": "https://localhost:8080/"
        },
        "id": "3LaG7CA7P9au",
        "outputId": "c0ce4191-25df-4eb6-e59a-ff644a56b82d"
      },
      "outputs": [
        {
          "output_type": "stream",
          "name": "stdout",
          "text": [
            "Even numbers: [2, 4, 6, 8]\n",
            "Odd numbers: [1, 3, 5, 7, 9]\n"
          ]
        }
      ],
      "source": [
        "# Name      :- Samarth Bolaj\n",
        "# Roll      :- 107\n",
        "# Div/Batch :- A1\n",
        "\n",
        "#Write a Python program to make separate even and odd numbers in the given list\n",
        "def separate_even_odd(numbers):\n",
        "    even = []\n",
        "    odd = []\n",
        "    for num in numbers:\n",
        "        if num % 2 == 0:\n",
        "            even.append(num)\n",
        "        else:\n",
        "            odd.append(num)\n",
        "    return (even, odd)\n",
        "\n",
        "# Example usage\n",
        "numbers = [1, 2, 3, 4, 5, 6, 7, 8, 9]\n",
        "even, odd = separate_even_odd(numbers)\n",
        "print(\"Even numbers:\", even)\n",
        "print(\"Odd numbers:\", odd)"
      ]
    },
    {
      "cell_type": "code",
      "source": [
        "my_dict = {'apple': 3, 'banana': 4, 'orange': 2, 'pear': 1}\n",
        "\n",
        "# using sum() and values() methods\n",
        "sum_of_items = sum(my_dict.values())\n",
        "\n",
        "# printing the result\n",
        "print(\"The sum of all items in the dictionary is:\", sum_of_items)\n"
      ],
      "metadata": {
        "colab": {
          "base_uri": "https://localhost:8080/"
        },
        "id": "7S7019GWSY0c",
        "outputId": "016389ea-6082-4880-f97d-ee861239b47e"
      },
      "execution_count": null,
      "outputs": [
        {
          "output_type": "stream",
          "name": "stdout",
          "text": [
            "The sum of all items in the dictionary is: 10\n"
          ]
        }
      ]
    },
    {
      "cell_type": "code",
      "source": [
        "#Write a Python program to merge two Python dictionaries\n",
        "# define two dictionaries to be merged\n",
        "dict1 = {'apple': 3, 'banana': 4}\n",
        "dict2 = {'orange': 2, 'pear': 1}\n",
        "\n",
        "dict1.update(dict2)\n",
        "\n",
        "print(\"The merged dictionary is:\", dict1)\n",
        "\n",
        "\n"
      ],
      "metadata": {
        "colab": {
          "base_uri": "https://localhost:8080/"
        },
        "id": "RIc5S6kTSxj8",
        "outputId": "68847172-48b0-4cdc-c693-b3ee90acebc7"
      },
      "execution_count": null,
      "outputs": [
        {
          "output_type": "stream",
          "name": "stdout",
          "text": [
            "The merged dictionary is: {'apple': 3, 'banana': 4, 'orange': 2, 'pear': 1}\n"
          ]
        }
      ]
    },
    {
      "cell_type": "code",
      "source": [
        "#Write a Python program to create a union of sets, set difference, and the intersection of sets\n",
        "# define two sets to be used\n",
        "set1 = {1, 2, 3, 4, 5}\n",
        "set2 = {4, 5, 6, 7, 8}\n",
        "\n",
        "union_of_sets = set1.union(set2)\n",
        "\n",
        "set_difference = set1.difference(set2)\n",
        "\n",
        "intersection_of_sets = set1.intersection(set2)\n",
        "\n",
        "# printing the results\n",
        "print(\"The union of sets is:\", union_of_sets)\n",
        "print(\"The set difference is:\", set_difference)\n",
        "print(\"The intersection of sets is:\", intersection_of_sets)\n"
      ],
      "metadata": {
        "colab": {
          "base_uri": "https://localhost:8080/"
        },
        "id": "0dSoqQimTuHc",
        "outputId": "404e2e43-abaf-41a8-f318-dea2250d1f86"
      },
      "execution_count": null,
      "outputs": [
        {
          "output_type": "stream",
          "name": "stdout",
          "text": [
            "The union of sets is: {1, 2, 3, 4, 5, 6, 7, 8}\n",
            "The set difference is: {1, 2, 3}\n",
            "The intersection of sets is: {4, 5}\n"
          ]
        }
      ]
    }
  ]
}