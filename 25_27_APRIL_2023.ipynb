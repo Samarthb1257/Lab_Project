{
  "cells": [
    {
      "cell_type": "markdown",
      "metadata": {
        "id": "view-in-github",
        "colab_type": "text"
      },
      "source": [
        "<a href=\"https://colab.research.google.com/github/Samarthb1257/Lab_Project/blob/main/25_27_APRIL_2023.ipynb\" target=\"_parent\"><img src=\"https://colab.research.google.com/assets/colab-badge.svg\" alt=\"Open In Colab\"/></a>"
      ]
    },
    {
      "cell_type": "code",
      "source": [
        "import json\n",
        "emp_dict={\n",
        "    \"ERP\":\"YOU\",9:\"ERP\",8.9:\"python\"\n",
        "}\n",
        "print(emp_dict)"
      ],
      "metadata": {
        "id": "2evWrcdCYhpS",
        "outputId": "fcfb790b-1ba7-437f-d7c2-e72cda443bfa",
        "colab": {
          "base_uri": "https://localhost:8080/"
        }
      },
      "execution_count": null,
      "outputs": [
        {
          "output_type": "stream",
          "name": "stdout",
          "text": [
            "{'ERP': 'YOU', 9: 'ERP', 8.9: 'python'}\n"
          ]
        }
      ]
    },
    {
      "cell_type": "code",
      "source": [
        "import json\n",
        "x={\n",
        "    \"x\": \"10\",\n",
        "    \"y\": 56,\n",
        "    \"z\": \"python\"\n",
        "}\n",
        "y=json.dumps(x)\n",
        "print(y)"
      ],
      "metadata": {
        "id": "ESnvuyHPg40d",
        "outputId": "fcb17bff-52b0-4554-d15a-2ff8b8d6c2b0",
        "colab": {
          "base_uri": "https://localhost:8080/"
        }
      },
      "execution_count": null,
      "outputs": [
        {
          "output_type": "stream",
          "name": "stdout",
          "text": [
            "{\"x\": \"10\", \"y\": 56, \"z\": \"python\"}\n"
          ]
        }
      ]
    },
    {
      "cell_type": "code",
      "source": [
        "def outer():\n",
        "  print(\"Outer Function \")\n",
        "\n",
        "  def inner():\n",
        "    print(\"Inner Function\")\n",
        "\n",
        "  inner()\n",
        "\n",
        "outer()"
      ],
      "metadata": {
        "id": "wQtwiEPyfW8h",
        "outputId": "689912a1-a9f5-4ad8-951e-f743429feafd",
        "colab": {
          "base_uri": "https://localhost:8080/"
        }
      },
      "execution_count": null,
      "outputs": [
        {
          "output_type": "stream",
          "name": "stdout",
          "text": [
            "Outer Function \n",
            "Inner Function\n"
          ]
        }
      ]
    },
    {
      "cell_type": "code",
      "source": [
        "def add():\n",
        "  a=10\n",
        "  b=20\n",
        "  c=a+b\n",
        "  print(c)\n",
        "\n",
        "  def sub():\n",
        "    a=30\n",
        "    b=10\n",
        "    c=a-b\n",
        "    print(c)\n",
        "\n",
        "  sub()\n",
        "\n",
        "add()"
      ],
      "metadata": {
        "id": "l5RW-fo4gIwU",
        "outputId": "9ce78731-84af-416e-e3b9-2b3c270d5d5c",
        "colab": {
          "base_uri": "https://localhost:8080/"
        }
      },
      "execution_count": null,
      "outputs": [
        {
          "output_type": "stream",
          "name": "stdout",
          "text": [
            "30\n",
            "20\n"
          ]
        }
      ]
    },
    {
      "cell_type": "code",
      "source": [
        "import numpy as np\n",
        "\n",
        "arr=np.array([1,2,3,4,5])\n",
        "\n",
        "x= arr.copy()\n",
        "y= arr.view()\n",
        "#z= arr.cut()\n",
        "arr[1]=42\n",
        "arr[0]=45\n",
        "\n",
        "print(arr)\n",
        "print(x)\n",
        "print(y)\n",
        "#print(z)\n"
      ],
      "metadata": {
        "id": "XU4vRi41hpLz",
        "outputId": "e6f3422a-93ba-4354-ccd9-91111d1f0ea6",
        "colab": {
          "base_uri": "https://localhost:8080/"
        }
      },
      "execution_count": null,
      "outputs": [
        {
          "output_type": "stream",
          "name": "stdout",
          "text": [
            "[45 42  3  4  5]\n",
            "[1 2 3 4 5]\n",
            "[45 42  3  4  5]\n"
          ]
        }
      ]
    },
    {
      "cell_type": "code",
      "source": [
        "import numpy as np\n",
        "\n",
        "x= np.array([[1,2],[4,5]])\n",
        "y= np.array([[6,7],[9,10]])\n",
        "\n",
        "print(\"Addition Of Matrix \")\n",
        "print(np.add(x,y))\n",
        "\n",
        "print(\"Subtraction Of Matrix \")\n",
        "print(np.subtract(x,y))\n"
      ],
      "metadata": {
        "id": "aKk4MLY5itOY",
        "outputId": "356ab550-e297-428d-9366-953a38591a4a",
        "colab": {
          "base_uri": "https://localhost:8080/"
        }
      },
      "execution_count": null,
      "outputs": [
        {
          "output_type": "stream",
          "name": "stdout",
          "text": [
            "Addition Of Matrix \n",
            "[[ 7  9]\n",
            " [13 15]]\n",
            "Subtraction Of Matrix \n",
            "[[-5 -5]\n",
            " [-5 -5]]\n"
          ]
        }
      ]
    },
    {
      "cell_type": "code",
      "source": [
        "l1=np.matrix('1,2,3 ; 4,5,6 ; 7,8,9')\n",
        "a=np.array(l1)\n",
        "print(a)\n"
      ],
      "metadata": {
        "id": "NBfi3Vs8jsSe",
        "outputId": "c9cb9b99-1082-44ca-dd2b-a199760acfce",
        "colab": {
          "base_uri": "https://localhost:8080/"
        }
      },
      "execution_count": null,
      "outputs": [
        {
          "output_type": "stream",
          "name": "stdout",
          "text": [
            "[[1 2 3]\n",
            " [4 5 6]\n",
            " [7 8 9]]\n"
          ]
        }
      ]
    },
    {
      "cell_type": "code",
      "source": [
        "l1=np.matrix('1,2,3 ; 4,5,6 ; 7,8,9')\n",
        "a=np.array(l1)\n",
        "print(a.T)\n"
      ],
      "metadata": {
        "id": "Xa5N00KLkcvR",
        "outputId": "7af2f3dd-b69b-485a-ac9b-d9334d36c1c3",
        "colab": {
          "base_uri": "https://localhost:8080/"
        }
      },
      "execution_count": null,
      "outputs": [
        {
          "output_type": "stream",
          "name": "stdout",
          "text": [
            "[[1 4 7]\n",
            " [2 5 8]\n",
            " [3 6 9]]\n"
          ]
        }
      ]
    },
    {
      "cell_type": "code",
      "source": [
        "# Lambda function\n",
        "def get_cube(num):\n",
        "  return num*num*num\n",
        "print(get_cube(5))\n",
        "\n",
        "\n",
        "#Lambda program\n",
        "\n",
        "res= lambda num:num*num*num\n",
        "print(res(5))"
      ],
      "metadata": {
        "id": "vygM0qgHkqcl",
        "outputId": "cfc37976-e075-487a-a5d3-867e68c76577",
        "colab": {
          "base_uri": "https://localhost:8080/"
        }
      },
      "execution_count": null,
      "outputs": [
        {
          "output_type": "stream",
          "name": "stdout",
          "text": [
            "125\n",
            "125\n"
          ]
        }
      ]
    }
  ],
  "metadata": {
    "colab": {
      "toc_visible": true,
      "provenance": [],
      "include_colab_link": true
    },
    "kernelspec": {
      "display_name": "Python 3",
      "name": "python3"
    }
  },
  "nbformat": 4,
  "nbformat_minor": 0
}