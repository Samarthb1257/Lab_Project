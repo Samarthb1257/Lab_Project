{
  "nbformat": 4,
  "nbformat_minor": 0,
  "metadata": {
    "colab": {
      "provenance": [],
      "authorship_tag": "ABX9TyOHoA5zagH2Bnp1m+M6qrei",
      "include_colab_link": true
    },
    "kernelspec": {
      "name": "python3",
      "display_name": "Python 3"
    },
    "language_info": {
      "name": "python"
    }
  },
  "cells": [
    {
      "cell_type": "markdown",
      "metadata": {
        "id": "view-in-github",
        "colab_type": "text"
      },
      "source": [
        "<a href=\"https://colab.research.google.com/github/Samarthb1257/Lab_Project/blob/main/Assginment.ipynb\" target=\"_parent\"><img src=\"https://colab.research.google.com/assets/colab-badge.svg\" alt=\"Open In Colab\"/></a>"
      ]
    },
    {
      "cell_type": "code",
      "execution_count": null,
      "metadata": {
        "colab": {
          "base_uri": "https://localhost:8080/"
        },
        "id": "ovOBYmNVKBXU",
        "outputId": "4fad37a7-659c-44a6-b98e-f4614c61ad4c"
      },
      "outputs": [
        {
          "output_type": "stream",
          "name": "stdout",
          "text": [
            "(2, 3)\n"
          ]
        }
      ],
      "source": [
        "a=(1,2,3,4,5)\n",
        "b=a[1:3]\n",
        "print(b)\n",
        "\n"
      ]
    },
    {
      "cell_type": "code",
      "source": [
        "a=(\"samarth\",1,2,\"shreyash\",3,4)\n",
        "b=a[0:4]\n",
        "print(b)"
      ],
      "metadata": {
        "colab": {
          "base_uri": "https://localhost:8080/"
        },
        "id": "i-TMsRC3N9zy",
        "outputId": "37c2123a-aeb4-4bdf-b4c7-796de83b702c"
      },
      "execution_count": null,
      "outputs": [
        {
          "output_type": "stream",
          "name": "stdout",
          "text": [
            "('samarth', 1, 2, 'shreyash')\n"
          ]
        }
      ]
    },
    {
      "cell_type": "code",
      "source": [
        "import pandas as pd\n",
        "\n",
        "\n",
        "df = pd.read_csv('/content/Employee payroll .csv')\n",
        "\n",
        "\n",
        "max_salary = df['Base Pay'].max()\n",
        "employee_max_salary = df[df['Base Pay'] == max_salary]\n",
        "\n",
        "\n",
        "chief_hr_employee = df[df['Job Title'] == 'Chief of Human Resources']['First Name'].values[0]\n",
        "print(\"Employee with the job title 'Chief of Human Resources':\", chief_hr_employee)\n",
        "\n",
        "\n",
        "\n",
        "\n",
        "total_basic_pay_q4 = df[df['Fiscal Quarter'] == 4]['Base Pay'].sum()\n",
        "\n",
        "\n",
        "print(\"Employee with the maximum salary:\")\n",
        "print(employee_max_salary)\n",
        "\n",
        "print(\"\\nEmployee(s) with job title 'Chief Human Resources':\")\n",
        "print(chief_hr_employee)\n",
        "\n",
        "\n",
        "print(\"\\nTotal basic pays of employees in Fiscal Quarter 4:\", total_basic_pay_q4)"
      ],
      "metadata": {
        "colab": {
          "base_uri": "https://localhost:8080/"
        },
        "id": "6Ih6wE4TUs5r",
        "outputId": "98ab86b4-e7e3-4bac-d513-6ea20b2e57b5"
      },
      "execution_count": null,
      "outputs": [
        {
          "output_type": "stream",
          "name": "stdout",
          "text": [
            "Employee with the job title 'Chief of Human Resources': GLADYS\n",
            "Employee with the maximum salary:\n",
            "    Fiscal Year  Fiscal Quarter Fiscal Period    First Name Last Name  \\\n",
            "14         2017               4        2017Q4  SHABIRHUSAIN    ABADIN   \n",
            "\n",
            "              Bureau  Office         Office Name  Job Code  \\\n",
            "14  Bureau of Health    4891  PROVIDENT HOSPITAL      1642   \n",
            "\n",
            "                  Job Title  Base Pay  Position ID Original Hire Date  \n",
            "14  Attending Physician XII  67824.96      1100069         12/16/2013  \n",
            "\n",
            "Employee(s) with job title 'Chief Human Resources':\n",
            "GLADYS\n",
            "\n",
            "Total basic pays of employees in Fiscal Quarter 4: 212127.42000000004\n"
          ]
        }
      ]
    }
  ]
}