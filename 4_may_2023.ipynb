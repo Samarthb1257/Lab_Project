{
  "nbformat": 4,
  "nbformat_minor": 0,
  "metadata": {
    "colab": {
      "provenance": [],
      "toc_visible": true,
      "mount_file_id": "1H91juE-cxuZS9Nttu0clAQ8K-ZGa5KOE",
      "authorship_tag": "ABX9TyP/OLCpVPLh13t1jhhrdDjm",
      "include_colab_link": true
    },
    "kernelspec": {
      "name": "python3",
      "display_name": "Python 3"
    },
    "language_info": {
      "name": "python"
    }
  },
  "cells": [
    {
      "cell_type": "markdown",
      "metadata": {
        "id": "view-in-github",
        "colab_type": "text"
      },
      "source": [
        "<a href=\"https://colab.research.google.com/github/Samarthb1257/Lab_Project/blob/main/4_may_2023.ipynb\" target=\"_parent\"><img src=\"https://colab.research.google.com/assets/colab-badge.svg\" alt=\"Open In Colab\"/></a>"
      ]
    },
    {
      "cell_type": "code",
      "execution_count": null,
      "metadata": {
        "colab": {
          "base_uri": "https://localhost:8080/"
        },
        "id": "-YG7uG7MJWlj",
        "outputId": "099f4e33-b07b-433d-ab6d-ef8ea2daf32c"
      },
      "outputs": [
        {
          "output_type": "stream",
          "name": "stdout",
          "text": [
            "['B', 10, 6]\n",
            "['B', 12, 9, 6]\n"
          ]
        }
      ],
      "source": [
        "l1=[5,6,8,9,10,12,\"A\",\"B\"]\n",
        "alternate=l1[-1::-3]\n",
        "even=l1[-1::-2]\n",
        "print(alternate)\n",
        "print(even)"
      ]
    },
    {
      "cell_type": "code",
      "source": [
        "x=11%4\n",
        "print(x)\n"
      ],
      "metadata": {
        "colab": {
          "base_uri": "https://localhost:8080/"
        },
        "id": "t_SUtaNvwoTV",
        "outputId": "a564172c-f3fc-415c-dc76-0840ff6ad60d"
      },
      "execution_count": null,
      "outputs": [
        {
          "output_type": "stream",
          "name": "stdout",
          "text": [
            "3\n"
          ]
        }
      ]
    },
    {
      "cell_type": "markdown",
      "source": [
        "# New Section"
      ],
      "metadata": {
        "id": "7zP_iDjRUZ_A"
      }
    },
    {
      "cell_type": "code",
      "source": [
        "import csv\n",
        "file= open(\"/ADITYA (116) Salary emp 2.csv\",\"r\")\n",
        "data = list(csv.reader(file))\n",
        "data.sort()\n",
        "print(data)\n",
        "file.close()\n",
        "file1 = open(\"/ADITYA EDS Excel Employee (116) 2.csv\",\"r\")\n",
        "data1 = list(csv.reader(file1))\n",
        "print(data1)\n",
        "\n",
        "#merging two files\n",
        "data2 = []\n",
        "for i in range(len(data)):\n",
        "  data2.append(data[i]+data1[i])\n",
        "print(data2)\n",
        "print(data2[0])\n",
        "#sorting as per records\n",
        "data2.sort()#key=lambda x: int(x[2]), reverse= True)\n",
        "print(data2)\n",
        "#converting list to csv file\n",
        "file2= open(\"/ADITYA (116) Salary emp 2.csv\",\"w\")\n",
        "cw = csv.writer(file2)\n",
        "cw.writerows(data2)\n",
        "file.close()\n",
        "file1.close()\n",
        "file2.close()"
      ],
      "metadata": {
        "colab": {
          "base_uri": "https://localhost:8080/"
        },
        "id": "hlmWEZFqUa-I",
        "outputId": "3370e8cb-890f-428f-e7ae-32970a5693dd"
      },
      "execution_count": null,
      "outputs": [
        {
          "output_type": "stream",
          "name": "stdout",
          "text": [
            "[['1', 'Ganesh ', '1001', '25000', 'Sr no.', 'Emp Name', 'Emp id', 'Date', 'Leaves', 'Sr no.', 'Emp Name', 'Emp id', 'Date', 'Leaves'], ['10', 'Vijay', '1010', '100000', '1', 'Ganesh ', '1001', '21-01-2023', '2', '1', 'Ganesh ', '1001', '21-01-2023', '2'], ['2', 'Kartik', '1002', '40000', '2', 'Kartik', '1002', '22-01-2023', '4', '2', 'Kartik', '1002', '22-01-2023', '4'], ['3', 'Veera', '1003', '80000', '3', 'Veera', '1003', '23-01-2023', '8', '3', 'Veera', '1003', '23-01-2023', '8'], ['4', 'Sanskruti', '1004', '60000', '4', 'Sanskruti', '1004', '24-01-2023', '6', '4', 'Sanskruti', '1004', '24-01-2023', '6'], ['5', 'Archana', '1005', '50000', '5', 'Archana', '1005', '25-01-2023', '1', '5', 'Archana', '1005', '25-01-2023', '1'], ['6', 'Aradhana', '1006', '30000', '6', 'Aradhana', '1006', '26-01-2023', '2', '6', 'Aradhana', '1006', '26-01-2023', '2'], ['7', 'Pratham', '1007', '15000', '7', 'Pratham', '1007', '27-01-2023', '3', '7', 'Pratham', '1007', '27-01-2023', '3'], ['8', 'Sayali', '1008', '55000', '8', 'Sayali', '1008', '28-01-2023', '5', '8', 'Sayali', '1008', '28-01-2023', '5'], ['9', 'Smruti', '1009', '80000', '9', 'Smruti', '1009', '29-01-2023', '9', '9', 'Smruti', '1009', '29-01-2023', '9'], ['Sr no.', 'Emp Name', 'Emp id', 'Salary', '10', 'Vijay', '1010', '30-01-2023', '7', '10', 'Vijay', '1010', '30-01-2023', '7']]\n",
            "[['Sr no.', 'Emp Name', 'Emp id', 'Date', 'Leaves'], ['1', 'Ganesh ', '1001', '21-01-2023', '2'], ['2', 'Kartik', '1002', '22-01-2023', '4'], ['3', 'Veera', '1003', '23-01-2023', '8'], ['4', 'Sanskruti', '1004', '24-01-2023', '6'], ['5', 'Archana', '1005', '25-01-2023', '1'], ['6', 'Aradhana', '1006', '26-01-2023', '2'], ['7', 'Pratham', '1007', '27-01-2023', '3'], ['8', 'Sayali', '1008', '28-01-2023', '5'], ['9', 'Smruti', '1009', '29-01-2023', '9'], ['10', 'Vijay', '1010', '30-01-2023', '7']]\n",
            "[['1', 'Ganesh ', '1001', '25000', 'Sr no.', 'Emp Name', 'Emp id', 'Date', 'Leaves', 'Sr no.', 'Emp Name', 'Emp id', 'Date', 'Leaves', 'Sr no.', 'Emp Name', 'Emp id', 'Date', 'Leaves'], ['10', 'Vijay', '1010', '100000', '1', 'Ganesh ', '1001', '21-01-2023', '2', '1', 'Ganesh ', '1001', '21-01-2023', '2', '1', 'Ganesh ', '1001', '21-01-2023', '2'], ['2', 'Kartik', '1002', '40000', '2', 'Kartik', '1002', '22-01-2023', '4', '2', 'Kartik', '1002', '22-01-2023', '4', '2', 'Kartik', '1002', '22-01-2023', '4'], ['3', 'Veera', '1003', '80000', '3', 'Veera', '1003', '23-01-2023', '8', '3', 'Veera', '1003', '23-01-2023', '8', '3', 'Veera', '1003', '23-01-2023', '8'], ['4', 'Sanskruti', '1004', '60000', '4', 'Sanskruti', '1004', '24-01-2023', '6', '4', 'Sanskruti', '1004', '24-01-2023', '6', '4', 'Sanskruti', '1004', '24-01-2023', '6'], ['5', 'Archana', '1005', '50000', '5', 'Archana', '1005', '25-01-2023', '1', '5', 'Archana', '1005', '25-01-2023', '1', '5', 'Archana', '1005', '25-01-2023', '1'], ['6', 'Aradhana', '1006', '30000', '6', 'Aradhana', '1006', '26-01-2023', '2', '6', 'Aradhana', '1006', '26-01-2023', '2', '6', 'Aradhana', '1006', '26-01-2023', '2'], ['7', 'Pratham', '1007', '15000', '7', 'Pratham', '1007', '27-01-2023', '3', '7', 'Pratham', '1007', '27-01-2023', '3', '7', 'Pratham', '1007', '27-01-2023', '3'], ['8', 'Sayali', '1008', '55000', '8', 'Sayali', '1008', '28-01-2023', '5', '8', 'Sayali', '1008', '28-01-2023', '5', '8', 'Sayali', '1008', '28-01-2023', '5'], ['9', 'Smruti', '1009', '80000', '9', 'Smruti', '1009', '29-01-2023', '9', '9', 'Smruti', '1009', '29-01-2023', '9', '9', 'Smruti', '1009', '29-01-2023', '9'], ['Sr no.', 'Emp Name', 'Emp id', 'Salary', '10', 'Vijay', '1010', '30-01-2023', '7', '10', 'Vijay', '1010', '30-01-2023', '7', '10', 'Vijay', '1010', '30-01-2023', '7']]\n",
            "['1', 'Ganesh ', '1001', '25000', 'Sr no.', 'Emp Name', 'Emp id', 'Date', 'Leaves', 'Sr no.', 'Emp Name', 'Emp id', 'Date', 'Leaves', 'Sr no.', 'Emp Name', 'Emp id', 'Date', 'Leaves']\n",
            "[['1', 'Ganesh ', '1001', '25000', 'Sr no.', 'Emp Name', 'Emp id', 'Date', 'Leaves', 'Sr no.', 'Emp Name', 'Emp id', 'Date', 'Leaves', 'Sr no.', 'Emp Name', 'Emp id', 'Date', 'Leaves'], ['10', 'Vijay', '1010', '100000', '1', 'Ganesh ', '1001', '21-01-2023', '2', '1', 'Ganesh ', '1001', '21-01-2023', '2', '1', 'Ganesh ', '1001', '21-01-2023', '2'], ['2', 'Kartik', '1002', '40000', '2', 'Kartik', '1002', '22-01-2023', '4', '2', 'Kartik', '1002', '22-01-2023', '4', '2', 'Kartik', '1002', '22-01-2023', '4'], ['3', 'Veera', '1003', '80000', '3', 'Veera', '1003', '23-01-2023', '8', '3', 'Veera', '1003', '23-01-2023', '8', '3', 'Veera', '1003', '23-01-2023', '8'], ['4', 'Sanskruti', '1004', '60000', '4', 'Sanskruti', '1004', '24-01-2023', '6', '4', 'Sanskruti', '1004', '24-01-2023', '6', '4', 'Sanskruti', '1004', '24-01-2023', '6'], ['5', 'Archana', '1005', '50000', '5', 'Archana', '1005', '25-01-2023', '1', '5', 'Archana', '1005', '25-01-2023', '1', '5', 'Archana', '1005', '25-01-2023', '1'], ['6', 'Aradhana', '1006', '30000', '6', 'Aradhana', '1006', '26-01-2023', '2', '6', 'Aradhana', '1006', '26-01-2023', '2', '6', 'Aradhana', '1006', '26-01-2023', '2'], ['7', 'Pratham', '1007', '15000', '7', 'Pratham', '1007', '27-01-2023', '3', '7', 'Pratham', '1007', '27-01-2023', '3', '7', 'Pratham', '1007', '27-01-2023', '3'], ['8', 'Sayali', '1008', '55000', '8', 'Sayali', '1008', '28-01-2023', '5', '8', 'Sayali', '1008', '28-01-2023', '5', '8', 'Sayali', '1008', '28-01-2023', '5'], ['9', 'Smruti', '1009', '80000', '9', 'Smruti', '1009', '29-01-2023', '9', '9', 'Smruti', '1009', '29-01-2023', '9', '9', 'Smruti', '1009', '29-01-2023', '9'], ['Sr no.', 'Emp Name', 'Emp id', 'Salary', '10', 'Vijay', '1010', '30-01-2023', '7', '10', 'Vijay', '1010', '30-01-2023', '7', '10', 'Vijay', '1010', '30-01-2023', '7']]\n"
          ]
        }
      ]
    },
    {
      "cell_type": "code",
      "source": [
        "import csv\n",
        "\n",
        "def read_csv(file_path):\n",
        "    with open(file_path, \"r\") as file:\n",
        "        data = list(csv.reader(file))\n",
        "    return data\n",
        "\n",
        "def merge_csv(file_path1, file_path2):\n",
        "    data1 = read_csv(file_path1)\n",
        "    data2 = read_csv(file_path2)\n",
        "    merged_data = []\n",
        "    for i in range(len(data1)):\n",
        "        merged_data.append(data1[i] + data2[i])\n",
        "    merged_data.sort()\n",
        "    return merged_data\n",
        "\n",
        "def write_csv(file_path, data):\n",
        "    with open(file_path, \"w\") as file:\n",
        "        cw = csv.writer(file)\n",
        "        cw.writerows(data)\n",
        "\n",
        "# Reading the first CSV file\n",
        "file_path1 = \"/ADITYA (116) Salary emp 2.csv\"\n",
        "data1 = read_csv(file_path1)\n",
        "\n",
        "# Reading the second CSV file\n",
        "file_path2 = \"/ADITYA EDS Excel Employee (116) 2.csv\"\n",
        "data2 = read_csv(file_path2)\n",
        "\n",
        "# Merging the two CSV files\n",
        "merged_data = merge_csv(file_path1, file_path2)\n",
        "\n",
        "# Writing the merged data to a new CSV file\n",
        "new_file_path = \"/ADITYA (116) Salary emp 2.csv\"\n",
        "write_csv(new_file_path, merged_data)"
      ],
      "metadata": {
        "id": "YpkjRdmeZ5J0"
      },
      "execution_count": null,
      "outputs": []
    },
    {
      "cell_type": "markdown",
      "source": [
        "# New Section"
      ],
      "metadata": {
        "id": "XwX83ybMhBzl"
      }
    },
    {
      "cell_type": "code",
      "source": [
        "# Relational Operators\n",
        "x = 4\n",
        "y = 7\n",
        "\n",
        "print(x == y)\n"
      ],
      "metadata": {
        "colab": {
          "base_uri": "https://localhost:8080/"
        },
        "id": "LsHJXiv0hEFx",
        "outputId": "efe6a6a5-e0c6-4ab7-98bd-3ee9ac92c9de"
      },
      "execution_count": null,
      "outputs": [
        {
          "output_type": "stream",
          "name": "stdout",
          "text": [
            "False\n"
          ]
        }
      ]
    },
    {
      "cell_type": "code",
      "source": [
        "x = 4\n",
        "y = 7\n",
        "\n",
        "print(x != y)\n"
      ],
      "metadata": {
        "colab": {
          "base_uri": "https://localhost:8080/"
        },
        "id": "rGYy6E3SiEss",
        "outputId": "7c1a2037-0d29-4fa3-dd56-ad0b3d9b2374"
      },
      "execution_count": null,
      "outputs": [
        {
          "output_type": "stream",
          "name": "stdout",
          "text": [
            "True\n"
          ]
        }
      ]
    },
    {
      "cell_type": "code",
      "source": [
        "x = 7\n",
        "y = 4\n",
        "\n",
        "print(x>y)"
      ],
      "metadata": {
        "colab": {
          "base_uri": "https://localhost:8080/"
        },
        "id": "5ms60dlZip1P",
        "outputId": "222e28d4-0b4f-4079-c4e2-dbfb0695373f"
      },
      "execution_count": null,
      "outputs": [
        {
          "output_type": "stream",
          "name": "stdout",
          "text": [
            "True\n"
          ]
        }
      ]
    },
    {
      "cell_type": "code",
      "source": [
        "x = 3\n",
        "y = 4\n",
        "\n",
        "print(x<y)"
      ],
      "metadata": {
        "colab": {
          "base_uri": "https://localhost:8080/"
        },
        "id": "2U5tOKXVi5sZ",
        "outputId": "68e53573-a3fd-4343-a5f5-b00bc9f86d0f"
      },
      "execution_count": null,
      "outputs": [
        {
          "output_type": "stream",
          "name": "stdout",
          "text": [
            "True\n"
          ]
        }
      ]
    },
    {
      "cell_type": "code",
      "source": [
        "x = 5\n",
        "y = 3\n",
        "\n",
        "print(x >= y)"
      ],
      "metadata": {
        "colab": {
          "base_uri": "https://localhost:8080/"
        },
        "id": "E0qJJQRojJ04",
        "outputId": "5664e81c-fd78-4513-8216-b7ca7f69bfc7"
      },
      "execution_count": null,
      "outputs": [
        {
          "output_type": "stream",
          "name": "stdout",
          "text": [
            "True\n"
          ]
        }
      ]
    },
    {
      "cell_type": "code",
      "source": [
        "x = 4\n",
        "y = 7\n",
        "\n",
        "print(x<=y)"
      ],
      "metadata": {
        "colab": {
          "base_uri": "https://localhost:8080/"
        },
        "id": "Z6Sou200jQ2W",
        "outputId": "2cc5d9c5-6041-4c12-cfbd-3e32e614ffa5"
      },
      "execution_count": null,
      "outputs": [
        {
          "output_type": "stream",
          "name": "stdout",
          "text": [
            "True\n"
          ]
        }
      ]
    },
    {
      "cell_type": "markdown",
      "source": [
        "# New Section"
      ],
      "metadata": {
        "id": "HKxwnxIdkA-A"
      }
    },
    {
      "cell_type": "code",
      "source": [
        "# Assignment Operation\n",
        "x = 6\n",
        "\n",
        "print(x)"
      ],
      "metadata": {
        "colab": {
          "base_uri": "https://localhost:8080/"
        },
        "id": "EPXvbHSjj-BJ",
        "outputId": "cb5cb62c-a7e5-4cd2-f28a-66e4d264b46d"
      },
      "execution_count": null,
      "outputs": [
        {
          "output_type": "stream",
          "name": "stdout",
          "text": [
            "6\n"
          ]
        }
      ]
    },
    {
      "cell_type": "code",
      "source": [
        "x = 4\n",
        "\n",
        "x += 9\n",
        "\n",
        "print(x)\n"
      ],
      "metadata": {
        "colab": {
          "base_uri": "https://localhost:8080/"
        },
        "id": "u_VHlyoikRzm",
        "outputId": "31d1fbac-9ab2-4e91-a3d5-a4845f7cef53"
      },
      "execution_count": null,
      "outputs": [
        {
          "output_type": "stream",
          "name": "stdout",
          "text": [
            "13\n"
          ]
        }
      ]
    },
    {
      "cell_type": "code",
      "source": [
        "x = 4\n",
        "\n",
        "x -= 11\n",
        "\n",
        "print(x)\n"
      ],
      "metadata": {
        "colab": {
          "base_uri": "https://localhost:8080/"
        },
        "id": "Qk-X9iVMkY25",
        "outputId": "1ba12239-e1ad-42cf-ef72-6ffbd6b21a1b"
      },
      "execution_count": null,
      "outputs": [
        {
          "output_type": "stream",
          "name": "stdout",
          "text": [
            "2\n"
          ]
        }
      ]
    },
    {
      "cell_type": "code",
      "source": [
        "x = 5\n",
        "\n",
        "x *= 3\n",
        "\n",
        "print(x)\n"
      ],
      "metadata": {
        "colab": {
          "base_uri": "https://localhost:8080/"
        },
        "id": "tDP7cXKrkcyo",
        "outputId": "d6b9ed8e-c9d6-4e8d-eb88-036b4f523164"
      },
      "execution_count": null,
      "outputs": [
        {
          "output_type": "stream",
          "name": "stdout",
          "text": [
            "15\n"
          ]
        }
      ]
    },
    {
      "cell_type": "code",
      "source": [
        "x = 4\n",
        "\n",
        "x /= 2\n",
        "\n",
        "print(x)\n"
      ],
      "metadata": {
        "colab": {
          "base_uri": "https://localhost:8080/"
        },
        "id": "STny00n6kf6u",
        "outputId": "cf330a4c-d6f2-46f8-fbe2-be41b352318f"
      },
      "execution_count": null,
      "outputs": [
        {
          "output_type": "stream",
          "name": "stdout",
          "text": [
            "2.0\n"
          ]
        }
      ]
    },
    {
      "cell_type": "code",
      "source": [
        "x = 20\n",
        "\n",
        "x %= 3\n",
        "\n",
        "print(x)\n"
      ],
      "metadata": {
        "colab": {
          "base_uri": "https://localhost:8080/"
        },
        "id": "9WAXetgZkmif",
        "outputId": "84e7b209-5468-4216-9280-45eb8a25fd07"
      },
      "execution_count": null,
      "outputs": [
        {
          "output_type": "stream",
          "name": "stdout",
          "text": [
            "2\n"
          ]
        }
      ]
    },
    {
      "cell_type": "code",
      "source": [
        "x = 4\n",
        "\n",
        "x **= 3\n",
        "\n",
        "print(x)\n"
      ],
      "metadata": {
        "colab": {
          "base_uri": "https://localhost:8080/"
        },
        "id": "o-Pks863lfHv",
        "outputId": "46e760d6-ab16-42eb-ee53-fe21325ac655"
      },
      "execution_count": null,
      "outputs": [
        {
          "output_type": "stream",
          "name": "stdout",
          "text": [
            "64\n"
          ]
        }
      ]
    },
    {
      "cell_type": "code",
      "source": [
        "x = 9\n",
        "\n",
        "x//=3\n",
        "\n",
        "print(x)"
      ],
      "metadata": {
        "colab": {
          "base_uri": "https://localhost:8080/"
        },
        "id": "A-NkaYPZmDLH",
        "outputId": "a949c074-c8ef-41b5-f815-97324c591336"
      },
      "execution_count": null,
      "outputs": [
        {
          "output_type": "stream",
          "name": "stdout",
          "text": [
            "3\n"
          ]
        }
      ]
    },
    {
      "cell_type": "markdown",
      "source": [
        "# New Section"
      ],
      "metadata": {
        "id": "qNBopxUmsPf2"
      }
    },
    {
      "cell_type": "code",
      "source": [
        "# Arithmetic Operator\n",
        "a=3\n",
        "b=4\n",
        "print(a+b)"
      ],
      "metadata": {
        "colab": {
          "base_uri": "https://localhost:8080/"
        },
        "id": "eXBhJizmsDGh",
        "outputId": "2b8891d3-241f-4bff-b11f-d46d7eba067a"
      },
      "execution_count": null,
      "outputs": [
        {
          "output_type": "stream",
          "name": "stdout",
          "text": [
            "7\n"
          ]
        }
      ]
    },
    {
      "cell_type": "code",
      "source": [
        "a=5\n",
        "b=3\n",
        "print(a-b)"
      ],
      "metadata": {
        "colab": {
          "base_uri": "https://localhost:8080/"
        },
        "id": "N6wSgpcWsQtj",
        "outputId": "43125bd9-7e9a-4fcc-b72a-a4a1f302cf3a"
      },
      "execution_count": null,
      "outputs": [
        {
          "output_type": "stream",
          "name": "stdout",
          "text": [
            "2\n"
          ]
        }
      ]
    },
    {
      "cell_type": "code",
      "source": [
        "a=4\n",
        "b=5\n",
        "print(a*b)"
      ],
      "metadata": {
        "colab": {
          "base_uri": "https://localhost:8080/"
        },
        "id": "I3r_1_cssnkw",
        "outputId": "568e78fe-5c4e-425e-dcda-123a88b203bd"
      },
      "execution_count": null,
      "outputs": [
        {
          "output_type": "stream",
          "name": "stdout",
          "text": [
            "20\n"
          ]
        }
      ]
    },
    {
      "cell_type": "code",
      "source": [
        "a=5\n",
        "b=3\n",
        "print(a*b)\n"
      ],
      "metadata": {
        "colab": {
          "base_uri": "https://localhost:8080/"
        },
        "id": "z4XTfHHBstKh",
        "outputId": "30a9640e-5852-48b0-8065-a0f58ca3f8e7"
      },
      "execution_count": null,
      "outputs": [
        {
          "output_type": "stream",
          "name": "stdout",
          "text": [
            "15\n"
          ]
        }
      ]
    },
    {
      "cell_type": "code",
      "source": [
        "a=6\n",
        "b=3\n",
        "print(a/b)\n"
      ],
      "metadata": {
        "colab": {
          "base_uri": "https://localhost:8080/"
        },
        "id": "KjAQfd2EszWI",
        "outputId": "96534a16-7e69-4469-fdce-598a18f5ea33"
      },
      "execution_count": null,
      "outputs": [
        {
          "output_type": "stream",
          "name": "stdout",
          "text": [
            "2.0\n"
          ]
        }
      ]
    },
    {
      "cell_type": "code",
      "source": [
        "a=7\n",
        "b=2\n",
        "print(a%b)\n"
      ],
      "metadata": {
        "colab": {
          "base_uri": "https://localhost:8080/"
        },
        "id": "0KiuQSxys5GH",
        "outputId": "e8be2157-50ab-45bd-f71f-9469134e3e24"
      },
      "execution_count": null,
      "outputs": [
        {
          "output_type": "stream",
          "name": "stdout",
          "text": [
            "1\n"
          ]
        }
      ]
    },
    {
      "cell_type": "code",
      "source": [
        "a=5\n",
        "b=2\n",
        "print(a**b)"
      ],
      "metadata": {
        "colab": {
          "base_uri": "https://localhost:8080/"
        },
        "id": "7qGg1xOatIj7",
        "outputId": "7b2bbfac-3cab-45fa-a579-f921e3693dd7"
      },
      "execution_count": null,
      "outputs": [
        {
          "output_type": "stream",
          "name": "stdout",
          "text": [
            "25\n"
          ]
        }
      ]
    },
    {
      "cell_type": "code",
      "source": [
        "a=5\n",
        "b=2\n",
        "print(a//b)"
      ],
      "metadata": {
        "colab": {
          "base_uri": "https://localhost:8080/"
        },
        "id": "LvmzVz4utUP1",
        "outputId": "824dc5d2-3598-4209-bbda-e2d0774e9c7b"
      },
      "execution_count": null,
      "outputs": [
        {
          "output_type": "stream",
          "name": "stdout",
          "text": [
            "2\n"
          ]
        }
      ]
    },
    {
      "cell_type": "markdown",
      "source": [
        "# New Section"
      ],
      "metadata": {
        "id": "-s0wHmWWvejD"
      }
    },
    {
      "cell_type": "code",
      "source": [
        "import pandas as pd\n",
        "df = pd.read_csv('/content/drive/MyDrive/Emp.csv')\n",
        "a=df\n",
        "print(a.values.tolist())\n",
        "df1=pd.read_csv(r'/content/drive/MyDrive/Sal.csv')\n",
        "l=list(df1.itertuples(index=False))\n",
        "t1=[tuple(x)for x in df1.values]\n",
        "d1=df.to_dict()\n",
        "def freq(l):\n",
        "  counter = 0\n",
        "  num= l[0]\n",
        "  for i in l:\n",
        "    cf=l.count(i)\n",
        "    if(cf>counter):\n",
        "      counter = cf\n",
        "      num = i\n",
        "      return 0\n",
        "print(freq(l))"
      ],
      "metadata": {
        "colab": {
          "base_uri": "https://localhost:8080/"
        },
        "id": "tE-zO3d0vg6p",
        "outputId": "b6d677d5-acd3-42b8-fd9d-770f852b4910"
      },
      "execution_count": null,
      "outputs": [
        {
          "output_type": "stream",
          "name": "stdout",
          "text": [
            "[[1, 'Ganesh ', 1001, '21-01-2023', 2], [2, 'Kartik', 1002, '22-01-2023', 4], [3, 'Veera', 1003, '23-01-2023', 8], [4, 'Sanskruti', 1004, '24-01-2023', 6], [5, 'Archana', 1005, '25-01-2023', 1], [6, 'Aradhana', 1006, '26-01-2023', 2], [7, 'Pratham', 1007, '27-01-2023', 3], [8, 'Sayali', 1008, '28-01-2023', 5], [9, 'Smruti', 1009, '29-01-2023', 9], [10, 'Vijay', 1010, '30-01-2023', 7]]\n",
            "0\n"
          ]
        }
      ]
    },
    {
      "cell_type": "markdown",
      "source": [
        "# New Section"
      ],
      "metadata": {
        "id": "RvcBC3bC2TLA"
      }
    },
    {
      "cell_type": "code",
      "source": [
        "import pandas as pd\n",
        "\n",
        "# read in the three CSV files\n",
        "df1 = pd.read_csv('/age_stud(1).csv')\n",
        "df2 = pd.read_csv('/height_stud(1).csv')\n",
        "df3 = pd.read_csv('/weight_stud(1).csv')\n",
        "\n",
        "merged_df = pd.merge(df1, df2, on='StudentID')\n",
        "merged_df = pd.merge(merged_df, df3, on='StudentID')\n",
        "\n",
        "merged_df.to_csv('StudentDetails.csv', index=False)\n",
        "\n",
        "print(merged_df)\n",
        "\n",
        "\n",
        "avg_height = merged_df['Height (in)'].mean()\n",
        "max_height = merged_df['Height (in)'].max()\n",
        "min_height = merged_df['Height (in)'].min()\n",
        "count_height = merged_df['Height (in)'].count()\n",
        "sum_height =merged_df['Height (in)'].sum()\n",
        "percent_female =merged_df['Gender'].value_counts(normalize=True)['Female'] * 100\n",
        "\n",
        "avg_weight = merged_df['Weight (lbs)'].mean()\n",
        "max_weight = merged_df['Weight (lbs)'].max()\n",
        "min_weight = merged_df['Weight (lbs)'].min()\n",
        "count_weight = merged_df['Weight (lbs)'].count()\n",
        "sum_weight = merged_df['Weight (lbs)'].sum()\n",
        "percent_male = merged_df['Gender'].value_counts(normalize=True)['Male'] * 100\n",
        "\n",
        "# print the results\n",
        "print(f\"Height: Average={avg_height}, Max={max_height}, Min={min_height}, Count={count_height}, Sum={sum_height}\")\n",
        "print(f\"Weight: Average={avg_weight}, Max={max_weight}, Min={min_weight}, Count={count_weight}, Sum={sum_weight}\")\n",
        "print(f\"Percentage of Females: {percent_female}%\")\n",
        "print(f\"Percentage of Males: {percent_male}%\")\n"
      ],
      "metadata": {
        "colab": {
          "base_uri": "https://localhost:8080/"
        },
        "id": "QjPm3HSz-8U1",
        "outputId": "f0442ade-77d8-485c-d7ac-fd7592b3c874"
      },
      "execution_count": null,
      "outputs": [
        {
          "output_type": "stream",
          "name": "stdout",
          "text": [
            "   StudentID       Name  Gender  Age  Height (in)  Weight (lbs)\n",
            "0          1      Rahul    Male   18           68           150\n",
            "1          2      Rohan    Male   19           64           120\n",
            "2          3     Omkesh    Male   20           70           180\n",
            "3          4    Samarth    Male   18           62           110\n",
            "4          5    Firdaus  Female   19           72           200\n",
            "5          6  Samruddhi  Female   20           66           130\n",
            "Height: Average=67.0, Max=72, Min=62, Count=6, Sum=402\n",
            "Weight: Average=148.33333333333334, Max=200, Min=110, Count=6, Sum=890\n",
            "Percentage of Females: 33.33333333333333%\n",
            "Percentage of Males: 66.66666666666666%\n"
          ]
        }
      ]
    },
    {
      "cell_type": "markdown",
      "source": [
        "# New Section"
      ],
      "metadata": {
        "id": "loyp_kwsYvmp"
      }
    },
    {
      "cell_type": "code",
      "source": [
        "# 11 May 2023\n",
        "import math\n",
        "print (math.pow(9,3))\n",
        ""
      ],
      "metadata": {
        "colab": {
          "base_uri": "https://localhost:8080/"
        },
        "id": "FqjVolMnYE4o",
        "outputId": "67f87df6-fefd-4afa-dd42-fac0a0e80d45"
      },
      "execution_count": null,
      "outputs": [
        {
          "output_type": "stream",
          "name": "stdout",
          "text": [
            "729.0\n"
          ]
        }
      ]
    },
    {
      "cell_type": "code",
      "source": [
        "# itertools in python\n",
        "from itertools import count\n",
        "for number in count (start=5,step=3):\n",
        "  if number > 10:\n",
        "    break\n",
        "  print(number)\n"
      ],
      "metadata": {
        "colab": {
          "base_uri": "https://localhost:8080/"
        },
        "id": "nPfkPz-_YzFz",
        "outputId": "2edeeb0b-f5f5-4573-86a6-2d29c3b55fa2"
      },
      "execution_count": null,
      "outputs": [
        {
          "output_type": "stream",
          "name": "stdout",
          "text": [
            "5\n",
            "8\n"
          ]
        }
      ]
    },
    {
      "cell_type": "code",
      "source": [
        "x = range(3,10)\n",
        "for n in x:\n",
        "  print(n)\n",
        ""
      ],
      "metadata": {
        "colab": {
          "base_uri": "https://localhost:8080/"
        },
        "id": "-K697kkdZeVn",
        "outputId": "c74d6f14-1338-438b-af57-e999ce02b259"
      },
      "execution_count": null,
      "outputs": [
        {
          "output_type": "stream",
          "name": "stdout",
          "text": [
            "3\n",
            "4\n",
            "5\n",
            "6\n",
            "7\n",
            "8\n",
            "9\n"
          ]
        }
      ]
    },
    {
      "cell_type": "code",
      "source": [
        "# numbers, decimals and strings.\n",
        "from fractions import Fraction\n",
        "print(Fraction(84,21))\n",
        "print(Fraction(81,7))\n",
        "print(Fraction (23,17))\n"
      ],
      "metadata": {
        "colab": {
          "base_uri": "https://localhost:8080/"
        },
        "id": "O7R5D58RZu0y",
        "outputId": "5e0f5027-df47-4102-94e1-d4bd70e243ed"
      },
      "execution_count": null,
      "outputs": [
        {
          "output_type": "stream",
          "name": "stdout",
          "text": [
            "4\n",
            "81/7\n",
            "23/17\n"
          ]
        }
      ]
    },
    {
      "cell_type": "code",
      "source": [
        "import decimal\n",
        "float_division=22/7\n",
        "decimal_devision=decimal.Decimal(22)/decimal.Decimal(7)\n",
        "print(\"Result for float division of 4 by 3 : \")\n",
        "print(float_division)\n",
        "print(\"Result for decimal division of 4 by 3 : \")\n",
        "print(float_division)\n"
      ],
      "metadata": {
        "colab": {
          "base_uri": "https://localhost:8080/"
        },
        "id": "mV1jLiyCaYqN",
        "outputId": "30e65eab-42a5-41dc-d959-a227fa2f5c34"
      },
      "execution_count": null,
      "outputs": [
        {
          "output_type": "stream",
          "name": "stdout",
          "text": [
            "Result for float division of 4 by 3 : \n",
            "3.142857142857143\n",
            "Result for decimal division of 4 by 3 : \n",
            "3.142857142857143\n"
          ]
        }
      ]
    },
    {
      "cell_type": "code",
      "source": [
        "import decimal\n",
        "from decimal import Decimal\n",
        "x = Decimal(\"0.8\")\n",
        "y = Decimal(\"0.9\")\n",
        "z = Decimal(\"0.7\")\n",
        "\n",
        "s=x+y+z\n",
        "print(s)\n"
      ],
      "metadata": {
        "colab": {
          "base_uri": "https://localhost:8080/"
        },
        "id": "rIiETXsVbRBa",
        "outputId": "d1794fdf-a830-4d3f-d855-12c7042c8cd2"
      },
      "execution_count": null,
      "outputs": [
        {
          "output_type": "stream",
          "name": "stdout",
          "text": [
            "2.4\n"
          ]
        }
      ]
    },
    {
      "cell_type": "code",
      "source": [
        "var = 2\n",
        "var = 3\n",
        "print(var)\n",
        "\n"
      ],
      "metadata": {
        "colab": {
          "base_uri": "https://localhost:8080/"
        },
        "id": "vwYd3DA5P-Hk",
        "outputId": "f726f78f-1aeb-4128-a751-9753496d1f62"
      },
      "execution_count": null,
      "outputs": [
        {
          "output_type": "stream",
          "name": "stdout",
          "text": [
            "3\n"
          ]
        }
      ]
    },
    {
      "cell_type": "code",
      "source": [
        "a = '1'\n",
        "b = \"1\"\n",
        "print(a + b)\n",
        "\n"
      ],
      "metadata": {
        "colab": {
          "base_uri": "https://localhost:8080/"
        },
        "id": "VvYZhNOPQepS",
        "outputId": "0668989b-9a98-47a8-ac81-eb193f854cbe"
      },
      "execution_count": null,
      "outputs": [
        {
          "output_type": "stream",
          "name": "stdout",
          "text": [
            "11\n"
          ]
        }
      ]
    },
    {
      "cell_type": "code",
      "source": [
        "a = 6\n",
        "b = 3\n",
        "a /= 2 * b\n",
        "print(a)\n",
        "\n"
      ],
      "metadata": {
        "id": "Nr-3957QQj_n",
        "outputId": "a984c5cb-373a-4c02-d258-4d86b0c35548",
        "colab": {
          "base_uri": "https://localhost:8080/"
        }
      },
      "execution_count": null,
      "outputs": [
        {
          "output_type": "stream",
          "name": "stdout",
          "text": [
            "1.0\n"
          ]
        }
      ]
    }
  ]
}