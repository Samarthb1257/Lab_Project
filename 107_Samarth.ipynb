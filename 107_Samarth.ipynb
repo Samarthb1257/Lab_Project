{
  "nbformat": 4,
  "nbformat_minor": 0,
  "metadata": {
    "colab": {
      "provenance": [],
      "authorship_tag": "ABX9TyMtlSni0Q4G96jHSWcZdevB",
      "include_colab_link": true
    },
    "kernelspec": {
      "name": "python3",
      "display_name": "Python 3"
    },
    "language_info": {
      "name": "python"
    }
  },
  "cells": [
    {
      "cell_type": "markdown",
      "metadata": {
        "id": "view-in-github",
        "colab_type": "text"
      },
      "source": [
        "<a href=\"https://colab.research.google.com/github/Samarthb1257/Lab_Project/blob/main/107_Samarth.ipynb\" target=\"_parent\"><img src=\"https://colab.research.google.com/assets/colab-badge.svg\" alt=\"Open In Colab\"/></a>"
      ]
    },
    {
      "cell_type": "code",
      "source": [
        "a=25\n",
        "print(\"a as int\",a)\n",
        "b=547588\n",
        "print(\"b as a long\",b)\n",
        "c=14.67\n",
        "print(\"c as float\",c)\n",
        "d=3.14j\n",
        "print(\"d as complax \",d)\n",
        "\n",
        "#string\n",
        "str1=\" Welcome to python \"\n",
        "print(str1)\n",
        "\n",
        "#list\n",
        "l1=[15,25.6,\"python\"]\n",
        "print(l1)\n",
        "\n",
        "\n",
        "#tuple\n",
        "t1=(21,\"python\",21.45)\n",
        "print(t1)\n",
        "\n",
        "#Dictionary\n",
        "d1={\"Aradhana\":21,\"Prarthana\":22,\"Rugved\":23}\n",
        "print(d1)\n",
        "\n"
      ],
      "metadata": {
        "colab": {
          "base_uri": "https://localhost:8080/"
        },
        "id": "7iY7R5NrRNKq",
        "outputId": "ea5c4c94-b470-4848-c192-8d237de82c96"
      },
      "execution_count": null,
      "outputs": [
        {
          "output_type": "stream",
          "name": "stdout",
          "text": [
            "a as int 25\n",
            "b as a long 547588\n",
            "c as float 14.67\n",
            "d as complax  3.14j\n",
            " Welcome to python \n",
            "[15, 25.6, 'python']\n",
            "(21, 'python', 21.45)\n",
            "{'Aradhana': 21, 'Prarthana': 22, 'Rugved': 23}\n"
          ]
        }
      ]
    },
    {
      "cell_type": "code",
      "source": [
        "#if statement\n",
        "n1= int(input())\n",
        "n2= int(input())\n",
        "n3= int(input())\n",
        "if n1>n2 and n1>n3:\n",
        "  print(n1,\"is greater than \",n2,n3)\n",
        "if n2>n1 and n2>n3:\n",
        "  print(n2,\"is greater than \",n1,n3)\n",
        "if n3>n2 and n3>n1:\n",
        "  print(n3,\"is greater than \",n2,n1)\n",
        "\n",
        "#if-else statement\n",
        "print(\"Enter a number \")\n",
        "num=int(input())\n",
        "if num%2==0:\n",
        "  print(num,\"is even\")\n",
        "else:\n",
        "  print(num,\"is odd\")\n",
        "\n",
        "\n",
        "#nested if statement\n",
        "n1= int(input())\n",
        "n2= int(input())\n",
        "n3= int(input())\n",
        "\n",
        "if n1>n2:\n",
        "  if n1>n3:\n",
        "    print(n1,\"is greater\")\n",
        "if n2>n1:\n",
        "  if n2>n3:\n",
        "    print(n2,\"is greater\")\n",
        "if n3>n1:\n",
        "  if n3>n2:\n",
        "    print(n3,\"is greater\")\n",
        "\n",
        "\n",
        "\n",
        "#Short hand if-else\n",
        "print(\"Enter any number \")\n",
        "num=int(input())\n",
        "print(num,\"is even \") if num%2==0 else print(num,\"is odd\")\n",
        "\n",
        "#WEATHER\n",
        "\n",
        "weather=input(\"What is the weather?\")\n",
        "\n",
        "if weather == \"Sunny\":\n",
        "  print(\"It is a great day to go for a picnic \")\n",
        "elif weather == \"Cloudy\":\n",
        "  print(\"Don't forget to bring a jacket in case it rains\")\n",
        "elif weather == \"Rainy\":\n",
        "  print(\"Remember to bring umberella\")\n",
        "else:\n",
        "  print(\"Sorry I Don't understand that weather condition.\")"
      ],
      "metadata": {
        "colab": {
          "base_uri": "https://localhost:8080/"
        },
        "id": "epD9srkjTbth",
        "outputId": "7cc49ef4-c095-4e97-917f-0691aa7e9598"
      },
      "execution_count": null,
      "outputs": [
        {
          "output_type": "stream",
          "name": "stdout",
          "text": [
            "23\n",
            "35\n",
            "57\n",
            "57 is greater than  35 23\n"
          ]
        }
      ]
    },
    {
      "cell_type": "code",
      "source": [
        "weather=input(\"What is the weather?\")\n",
        "\n",
        "if weather == \"Sunny\":\n",
        "  print(\"It is a great day to go for a picnic \")\n",
        "elif weather == \"Cloudy\":\n",
        "  print(\"Don't forget to bring a jacket in case it rains\")\n",
        "elif weather == \"Rainy\":\n",
        "  print(\"Remember to bring umberella\")\n",
        "else:\n",
        "  print(\"Sorry I Don't understand that weather condition.\")"
      ],
      "metadata": {
        "colab": {
          "base_uri": "https://localhost:8080/"
        },
        "id": "4-F8kPDBgU2q",
        "outputId": "169b6854-7f4c-4bd0-926f-101c32201150"
      },
      "execution_count": null,
      "outputs": [
        {
          "output_type": "stream",
          "name": "stdout",
          "text": [
            "What is the weather?Sunny\n",
            "It is a great day to go for a picnic \n"
          ]
        }
      ]
    },
    {
      "cell_type": "code",
      "source": [
        "#function\n",
        "def sayHello():\n",
        "  print(\"welcome to python\")\n",
        "sayHello()\n"
      ],
      "metadata": {
        "colab": {
          "base_uri": "https://localhost:8080/"
        },
        "id": "Eq-4wwi4pM25",
        "outputId": "d5a524a1-472b-43e0-d234-2ddf6fd3ab57"
      },
      "execution_count": null,
      "outputs": [
        {
          "output_type": "stream",
          "name": "stdout",
          "text": [
            "welcome to python\n"
          ]
        }
      ]
    },
    {
      "cell_type": "code",
      "source": [
        "def even():\n",
        "  print(\"Enter the number\")\n",
        "  num=int(input())\n",
        "  if(num%2==0):\n",
        "    print(num,\"is even\")\n",
        "  else:\n",
        "    print(num,\"is odd\")\n",
        "even()"
      ],
      "metadata": {
        "colab": {
          "base_uri": "https://localhost:8080/"
        },
        "id": "Ie5nr7xH3qpJ",
        "outputId": "fb41b37c-276c-4d9e-e36f-339adcc27c59"
      },
      "execution_count": null,
      "outputs": [
        {
          "output_type": "stream",
          "name": "stdout",
          "text": [
            "Enter the number\n",
            "25\n",
            "25 is odd\n"
          ]
        }
      ]
    },
    {
      "cell_type": "code",
      "source": [
        "def info():\n",
        "  print(\"Shop name: Cashify\")\n",
        "  print(\"Add: xyz street,Pune\")\n",
        "  print(\"Phone : 1234567890\")\n",
        "  print(\"emai: xyz@gmail.com\")\n",
        "print(\"Enter your Phone's Battery Health Percentage \")\n",
        "batt=int(input())\n",
        "if(batt==100):\n",
        "  print(\"Your phone's Battery Health Percentage is Excellent \")\n",
        "elif(batt<=99 and batt>=50):\n",
        "     print(\"Your phone's Battery Health Percentage is Good \",info())\n",
        "elif(batt<=50 and batt>=30):\n",
        "     print(\"Your phone's Battery Health Percentage is low. Needs to be Replaced \",info())\n",
        "elif(batt<=30 and batt>=10):\n",
        "     print(\"Your phone's Battery Health Percentage is low. Needs to be Replaced Immediately within 8-10 days \",info())\n",
        "elif( batt<=10):\n",
        "     print(\"Your phone's Battery Health Percentage is NEEDS low. Needs to be Replaced Immediately within 2-3 days \",info())\n",
        "else:\n",
        "  print(\"INVALID\")\n",
        "\n"
      ],
      "metadata": {
        "colab": {
          "base_uri": "https://localhost:8080/"
        },
        "id": "N2uZQxR74b1V",
        "outputId": "0240e77e-c868-4794-c83e-f91a3ccfab4b"
      },
      "execution_count": null,
      "outputs": [
        {
          "output_type": "stream",
          "name": "stdout",
          "text": [
            "Enter your Phone's Battery Health Percentage \n",
            "50\n",
            "Shop name: Cashify\n",
            "Add: xyz street,Pune\n",
            "Phone : 1234567890\n",
            "emai: xyz@gmail.com\n",
            "Your phone's Battery Health Percentage is Good  None\n"
          ]
        }
      ]
    }
  ]
}