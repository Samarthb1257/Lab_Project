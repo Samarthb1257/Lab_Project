{
  "nbformat": 4,
  "nbformat_minor": 0,
  "metadata": {
    "colab": {
      "provenance": [],
      "mount_file_id": "1rOCzsEMsvpgkGs63Vi4Nz59_gu0ns91W",
      "authorship_tag": "ABX9TyNjci1sotu57Ry6wGOy213c",
      "include_colab_link": true
    },
    "kernelspec": {
      "name": "python3",
      "display_name": "Python 3"
    },
    "language_info": {
      "name": "python"
    }
  },
  "cells": [
    {
      "cell_type": "markdown",
      "metadata": {
        "id": "view-in-github",
        "colab_type": "text"
      },
      "source": [
        "<a href=\"https://colab.research.google.com/github/Samarthb1257/Lab_Project/blob/main/25_5_2023.ipynb\" target=\"_parent\"><img src=\"https://colab.research.google.com/assets/colab-badge.svg\" alt=\"Open In Colab\"/></a>"
      ]
    },
    {
      "cell_type": "code",
      "execution_count": null,
      "metadata": {
        "colab": {
          "base_uri": "https://localhost:8080/"
        },
        "id": "CeSp_SZbUxs5",
        "outputId": "7e210ad2-877c-4fbf-978b-f3965f12dad5"
      },
      "outputs": [
        {
          "output_type": "stream",
          "name": "stdout",
          "text": [
            "[['name' 'roll no.' 'marks']\n",
            " ['A' 1 20]\n",
            " ['B' 2 30]\n",
            " ['C' 3 20]\n",
            " ['D' 4 40]\n",
            " ['E' 5 50]\n",
            " ['F' 6 60]\n",
            " ['G' 7 52]\n",
            " ['H' 8 80]\n",
            " ['I' 9 63]\n",
            " ['J' 10 26]\n",
            " ['K' 11 23]\n",
            " ['L' 12 28]\n",
            " ['M' 13 90]]\n",
            "[['name' 'roll no.' 'marks']\n",
            " ['A' 1 20]\n",
            " ['B' 2 30]\n",
            " ['C' 3 20]\n",
            " ['D' 4 40]\n",
            " ['E' 5 50]\n",
            " ['F' 6 60]\n",
            " ['G' 7 52]\n",
            " ['H' 8 80]\n",
            " ['I' 9 63]\n",
            " ['J' 10 26]\n",
            " ['K' 11 23]\n",
            " ['L' 12 28]\n",
            " ['M' 13 90]]\n"
          ]
        }
      ],
      "source": [
        "#Array operations in python\n",
        "\n",
        "import pandas as pd\n",
        "import numpy as np\n",
        "\n",
        "df = pd.read_excel('/ARRAY .xlsx',header=None)\n",
        "df1 = pd.read_excel('/ARRAY 1 .xlsx',header=None)\n",
        "\n",
        "array = df.to_numpy()\n",
        "array1 = df1.to_numpy()\n",
        "\n",
        "print(array)\n",
        "print(array1)"
      ]
    },
    {
      "cell_type": "code",
      "source": [
        "a= np.vstack(array)\n",
        "print(a)\n"
      ],
      "metadata": {
        "colab": {
          "base_uri": "https://localhost:8080/"
        },
        "id": "WoeFjMLTeVGG",
        "outputId": "03d764b2-dbed-4b8f-cf8c-e8118e480bae"
      },
      "execution_count": null,
      "outputs": [
        {
          "output_type": "stream",
          "name": "stdout",
          "text": [
            "[['name' 'roll no.' 'marks']\n",
            " ['A' 1 20]\n",
            " ['B' 2 30]\n",
            " ['C' 3 20]\n",
            " ['D' 4 40]\n",
            " ['E' 5 50]\n",
            " ['F' 6 60]\n",
            " ['G' 7 52]\n",
            " ['H' 8 80]\n",
            " ['I' 9 63]\n",
            " ['J' 10 26]\n",
            " ['K' 11 23]\n",
            " ['L' 12 28]\n",
            " ['M' 13 90]]\n"
          ]
        }
      ]
    },
    {
      "cell_type": "code",
      "source": [
        "b= np.hstack(array1)\n",
        "print(b)"
      ],
      "metadata": {
        "colab": {
          "base_uri": "https://localhost:8080/"
        },
        "id": "_ccZSqUKefYq",
        "outputId": "11f68cf9-d9f4-4f27-f09f-0d2edd4d7063"
      },
      "execution_count": null,
      "outputs": [
        {
          "output_type": "stream",
          "name": "stdout",
          "text": [
            "['name' 'roll no.' 'marks' 'A' 1 20 'B' 2 30 'C' 3 20 'D' 4 40 'E' 5 50\n",
            " 'F' 6 60 'G' 7 52 'H' 8 80 'I' 9 63 'J' 10 26 'K' 11 23 'L' 12 28 'M' 13\n",
            " 90]\n"
          ]
        }
      ]
    },
    {
      "cell_type": "code",
      "source": [
        "c=np.dstack(array)\n",
        "print(c)\n"
      ],
      "metadata": {
        "colab": {
          "base_uri": "https://localhost:8080/"
        },
        "id": "hbTS0NH5euex",
        "outputId": "00583184-1393-479a-90ab-9c06b415e2f1"
      },
      "execution_count": null,
      "outputs": [
        {
          "output_type": "stream",
          "name": "stdout",
          "text": [
            "[[['name' 'A' 'B' 'C' 'D' 'E' 'F' 'G' 'H' 'I' 'J' 'K' 'L' 'M']\n",
            "  ['roll no.' 1 2 3 4 5 6 7 8 9 10 11 12 13]\n",
            "  ['marks' 20 30 20 40 50 60 52 80 63 26 23 28 90]]]\n"
          ]
        }
      ]
    },
    {
      "cell_type": "code",
      "source": [
        "array = np.random.randint(0,3,(20,20))\n",
        "zeros = np.sum(array == 0)\n",
        "ones = np.sum(array == 1)\n",
        "twos = np.sum(array == 2)\n",
        "\n",
        "print(zeros)\n",
        "print(ones)\n",
        "print(twos)\n",
        "\n",
        "arr_stacked = np.stack([array,array])\n",
        "print('Numpy horizontal stacking method #1')\n",
        "print('=========================================')\n",
        "print(arr_stacked)"
      ],
      "metadata": {
        "colab": {
          "base_uri": "https://localhost:8080/"
        },
        "id": "McqO45f7fKq1",
        "outputId": "5ae40fdb-38d3-4cd3-cf5f-cff6e9e697f2"
      },
      "execution_count": null,
      "outputs": [
        {
          "output_type": "stream",
          "name": "stdout",
          "text": [
            "123\n",
            "135\n",
            "142\n",
            "Numpy horizontal stacking method #1\n",
            "=========================================\n",
            "[[[1 2 2 1 2 1 0 1 1 1 0 1 0 0 1 0 2 1 2 0]\n",
            "  [0 2 2 1 1 0 2 1 2 2 2 0 0 0 1 2 0 0 1 2]\n",
            "  [0 1 1 2 1 0 0 2 2 0 2 2 2 1 0 2 0 0 2 1]\n",
            "  [1 1 0 0 1 1 2 2 1 1 2 0 2 2 1 1 0 2 0 2]\n",
            "  [2 2 1 1 0 1 2 2 1 1 2 1 1 2 0 2 1 2 2 1]\n",
            "  [2 1 0 2 0 0 0 2 2 2 2 0 0 2 2 1 2 1 2 1]\n",
            "  [2 0 2 2 0 0 2 1 0 2 1 0 2 1 2 1 0 0 2 2]\n",
            "  [2 0 2 1 1 2 1 1 2 0 2 0 1 2 2 0 2 0 1 2]\n",
            "  [1 1 0 2 1 0 2 2 1 1 1 1 2 2 1 2 0 1 2 1]\n",
            "  [0 0 0 1 0 1 1 2 1 2 0 2 1 1 2 0 2 1 2 1]\n",
            "  [0 1 0 2 0 1 2 0 1 2 0 1 2 2 0 1 0 1 0 2]\n",
            "  [1 0 0 1 1 2 1 2 0 1 0 1 1 2 1 2 1 1 2 1]\n",
            "  [2 2 0 0 0 1 0 1 1 2 0 2 2 0 1 2 1 0 2 1]\n",
            "  [1 2 0 2 0 2 1 0 2 0 2 2 0 0 1 2 0 1 2 1]\n",
            "  [1 0 2 2 0 0 0 2 1 0 1 1 0 1 2 0 2 2 1 2]\n",
            "  [2 1 0 0 0 0 2 2 0 0 0 1 1 0 0 1 2 0 0 0]\n",
            "  [2 0 0 2 1 1 0 2 0 1 2 2 2 1 2 2 0 0 2 1]\n",
            "  [0 0 1 1 0 0 0 2 0 1 0 2 1 1 2 2 1 1 1 0]\n",
            "  [1 2 2 0 2 1 2 0 1 1 2 1 1 2 2 2 0 2 2 1]\n",
            "  [1 0 1 1 2 1 1 0 0 0 2 2 1 1 0 0 1 2 0 1]]\n",
            "\n",
            " [[1 2 2 1 2 1 0 1 1 1 0 1 0 0 1 0 2 1 2 0]\n",
            "  [0 2 2 1 1 0 2 1 2 2 2 0 0 0 1 2 0 0 1 2]\n",
            "  [0 1 1 2 1 0 0 2 2 0 2 2 2 1 0 2 0 0 2 1]\n",
            "  [1 1 0 0 1 1 2 2 1 1 2 0 2 2 1 1 0 2 0 2]\n",
            "  [2 2 1 1 0 1 2 2 1 1 2 1 1 2 0 2 1 2 2 1]\n",
            "  [2 1 0 2 0 0 0 2 2 2 2 0 0 2 2 1 2 1 2 1]\n",
            "  [2 0 2 2 0 0 2 1 0 2 1 0 2 1 2 1 0 0 2 2]\n",
            "  [2 0 2 1 1 2 1 1 2 0 2 0 1 2 2 0 2 0 1 2]\n",
            "  [1 1 0 2 1 0 2 2 1 1 1 1 2 2 1 2 0 1 2 1]\n",
            "  [0 0 0 1 0 1 1 2 1 2 0 2 1 1 2 0 2 1 2 1]\n",
            "  [0 1 0 2 0 1 2 0 1 2 0 1 2 2 0 1 0 1 0 2]\n",
            "  [1 0 0 1 1 2 1 2 0 1 0 1 1 2 1 2 1 1 2 1]\n",
            "  [2 2 0 0 0 1 0 1 1 2 0 2 2 0 1 2 1 0 2 1]\n",
            "  [1 2 0 2 0 2 1 0 2 0 2 2 0 0 1 2 0 1 2 1]\n",
            "  [1 0 2 2 0 0 0 2 1 0 1 1 0 1 2 0 2 2 1 2]\n",
            "  [2 1 0 0 0 0 2 2 0 0 0 1 1 0 0 1 2 0 0 0]\n",
            "  [2 0 0 2 1 1 0 2 0 1 2 2 2 1 2 2 0 0 2 1]\n",
            "  [0 0 1 1 0 0 0 2 0 1 0 2 1 1 2 2 1 1 1 0]\n",
            "  [1 2 2 0 2 1 2 0 1 1 2 1 1 2 2 2 0 2 2 1]\n",
            "  [1 0 1 1 2 1 1 0 0 0 2 2 1 1 0 0 1 2 0 1]]]\n"
          ]
        }
      ]
    },
    {
      "cell_type": "code",
      "source": [
        "import csv\n",
        "\n",
        "product_list = []\n",
        "\n",
        "with open('/content/Sales .CSV', 'r') as file:\n",
        "    reader = csv.reader(file)\n",
        "    next(reader)  # Skip the header row\n",
        "    for row in reader:\n",
        "        product_list.append(row[1])  # Assuming the product name is in the second column (index 1)\n",
        "\n",
        "# Print the product list\n",
        "print(\"Product List:\")\n",
        "for product in product_list:\n",
        "    print(product)\n"
      ],
      "metadata": {
        "colab": {
          "base_uri": "https://localhost:8080/"
        },
        "id": "P7X-QgjH8LG3",
        "outputId": "687eb9d2-e518-41d6-bfe3-22ad54d7e9e1"
      },
      "execution_count": null,
      "outputs": [
        {
          "output_type": "stream",
          "name": "stdout",
          "text": [
            "Product List:\n",
            "Lenovo Laptop\n",
            "Samsung M31\n",
            "Realmi 10pro\n",
            "Oppo F21\n",
            "Lenovo Laptop\n",
            "Samsung M31\n",
            "LG TV 32\"\n",
            "Oppo F21\n",
            "Lenovo Laptop\n",
            "Samsung M31\n",
            "LG TV 32\"\n",
            "Lenovo Laptop\n",
            "Samsung M31\n",
            "Realmi 10pro\n",
            "Lenovo Laptop\n",
            "Oppo F21\n",
            "LG TV 32\"\n",
            "Lenovo Laptop\n",
            "Samsung M31\n",
            "LG TV 32\"\n"
          ]
        }
      ]
    },
    {
      "cell_type": "code",
      "source": [
        "import csv\n",
        "\n",
        "supplier_dict = {}\n",
        "\n",
        "with open('/content/Sales .CSV', 'r') as file:\n",
        "    reader = csv.reader(file)\n",
        "    next(reader)  # Skip the header row\n",
        "    for row in reader:\n",
        "        supplier = row[2]  # Assuming supplier details are in the second column (index 1)\n",
        "        if supplier not in supplier_dict:\n",
        "            supplier_dict[supplier] = {}\n",
        "\n",
        "# Print the supplier details\n",
        "print(\"Supplier Details:\")\n",
        "for supplier in supplier_dict:\n",
        "    print(\"Supplier:\", supplier)\n"
      ],
      "metadata": {
        "colab": {
          "base_uri": "https://localhost:8080/"
        },
        "id": "PR7XX-CG-i2T",
        "outputId": "6e3e74ed-7401-4031-91db-58bd17e5c839"
      },
      "execution_count": null,
      "outputs": [
        {
          "output_type": "stream",
          "name": "stdout",
          "text": [
            "Supplier Details:\n",
            "Supplier: Raka Ele.\n",
            "Supplier: Vijay Sales\n",
            "Supplier: Gada Ele.\n",
            "Supplier: Surya Ele.\n",
            "Supplier: Deshmukh sales\n"
          ]
        }
      ]
    },
    {
      "cell_type": "code",
      "source": [
        "import csv\n",
        "\n",
        "customer_tuple = ()\n",
        "\n",
        "with open('/content/Sales .CSV', 'r') as file:\n",
        "    reader = csv.reader(file)\n",
        "    next(reader)  # Skip the header row\n",
        "    for row in reader:\n",
        "        customer_name = row[3]  # Assuming customer names are in the second column (index 1)\n",
        "        customer_tuple += (customer_name,)\n",
        "\n",
        "# Print the customer details\n",
        "print(\"Customer Names:\")\n",
        "for customer_name in customer_tuple:\n",
        "    print(customer_name)\n"
      ],
      "metadata": {
        "colab": {
          "base_uri": "https://localhost:8080/"
        },
        "id": "Pok5O0so_RjF",
        "outputId": "c5231a95-4e07-41a2-a672-f92c156fd1d9"
      },
      "execution_count": null,
      "outputs": [
        {
          "output_type": "stream",
          "name": "stdout",
          "text": [
            "Customer Names:\n",
            "Kaustubh Mahajan\n",
            "Siddhi Kiwale\n",
            "Sanket Kandalkar\n",
            "Yash Mali\n",
            "Yash Bagul\n",
            "Siddhi Kiwale\n",
            "Sanket Kandalkar\n",
            "Kaustubh Mahajan\n",
            "Yash Mali\n",
            "Siddhi Kiwale\n",
            "Sanket Kandalkar\n",
            "Kaustubh Mahajan\n",
            "Yash Mali\n",
            "Siddhi Kiwale\n",
            "Tanuja Mali\n",
            "Kaustubh Mahajan\n",
            "Sanket Kandalkar\n",
            "Siddhi Kiwale\n",
            "Kaustubh Mahajan\n",
            "Yash Mali\n"
          ]
        }
      ]
    },
    {
      "cell_type": "code",
      "source": [
        "import csv\n",
        "\n",
        "supplier_dict = {}\n",
        "\n",
        "with open('/content/Sales .CSV', 'r') as file:\n",
        "    reader = csv.reader(file)\n",
        "    next(reader)  # Skip the header row\n",
        "    for row in reader:\n",
        "        supplier = row[2]  # Assuming supplier details are in the third column (index 2)\n",
        "        if supplier not in supplier_dict:\n",
        "            supplier_dict[supplier] = None\n",
        "\n",
        "# Print the supplier names\n",
        "print(\"Supplier Names:\")\n",
        "for supplier in supplier_dict.keys():\n",
        "    print(supplier)\n"
      ],
      "metadata": {
        "colab": {
          "base_uri": "https://localhost:8080/"
        },
        "id": "zRGEKleoAWZe",
        "outputId": "cab1acfb-a3bb-42a8-e854-cc5522f50b09"
      },
      "execution_count": null,
      "outputs": [
        {
          "output_type": "stream",
          "name": "stdout",
          "text": [
            "Supplier Names:\n",
            "Raka Ele.\n",
            "Vijay Sales\n",
            "Gada Ele.\n",
            "Surya Ele.\n",
            "Deshmukh sales\n"
          ]
        }
      ]
    },
    {
      "cell_type": "code",
      "source": [
        "import csv\n",
        "import statistics\n",
        "f1=open(\"/content/Sales .CSV\",\"r\")\n",
        "data1=list(csv.reader(f1))\n",
        "print(data1)\n",
        "prodetails=[]\n",
        "for i in range(len(data1)):\n",
        "  prodetails.append(data1[i][1])\n",
        "print(prodetails)\n",
        "ID=[]\n",
        "for i in range(len(data1)):\n",
        "  ID.append(data1[i][0])\n",
        "print(ID)\n",
        "suppdetails=[]\n",
        "for i in range(len(data1)):\n",
        "  suppdetails.append(data1[i][2])\n",
        "SuppDetails={}\n",
        "for i in range(1,len(data1)):\n",
        "  SuppDetails.update({ID[i]:suppdetails[i]})\n",
        "print(SuppDetails)\n",
        "CustDetails=[]\n",
        "for i in range(1,len(data1)):\n",
        "  CustDetails.append(data1[i][3])\n",
        "print(tuple(CustDetails))\n",
        "gender=[]\n",
        "for i in range(len(data1)):\n",
        "  gender.append(data1[i][4])\n",
        "print(gender)\n",
        "for i in range(len(data1)):\n",
        "  prodetails.append(data1[i][1])\n",
        "print(prodetails)\n",
        "suppdetails=list(SuppDetails.values())\n",
        "print(\"The most popular product for sales is\",statistics.mode(prodetails))\n",
        "print(\"The best supplier for sales is\",statistics.mode(suppdetails))\n",
        "CustDet=list(CustDetails)\n",
        "print(CustDet)\n",
        "print(\"The customer who buys most of the product is\",statistics.mode(CustDet))\n",
        "count=0\n",
        "for i in range(len(gender)):\n",
        "  if gender[i]== \"Female\":\n",
        "    count+=1\n",
        "print(\"The Number of customers who are female are\",count)"
      ],
      "metadata": {
        "colab": {
          "base_uri": "https://localhost:8080/"
        },
        "id": "b50FzipiGlGA",
        "outputId": "e7cb93bd-6923-466b-9246-28746732917a"
      },
      "execution_count": null,
      "outputs": [
        {
          "output_type": "stream",
          "name": "stdout",
          "text": [
            "[['Product ID', 'Product details', 'Supplier Details', 'Customer Details', 'Gender'], ['P00001', 'Lenovo Laptop', 'Raka Ele.', 'Kaustubh Mahajan', 'Male'], ['P00002', 'Samsung M31', 'Vijay Sales', 'Siddhi Kiwale', 'Female'], ['P00003', 'Realmi 10pro', 'Gada Ele.', 'Sanket Kandalkar', 'Male'], ['P00004', 'Oppo F21', 'Surya Ele.', 'Yash Mali', 'Male'], ['P00005', 'Lenovo Laptop', 'Raka Ele.', 'Yash Bagul', 'Male'], ['P00006', 'Samsung M31', 'Gada Ele.', 'Siddhi Kiwale', 'Female'], ['P00007', 'LG TV 32\"', 'Vijay Sales', 'Sanket Kandalkar', 'Male'], ['P00008', 'Oppo F21', 'Surya Ele.', 'Kaustubh Mahajan', 'Male'], ['P00009', 'Lenovo Laptop', 'Raka Ele.', 'Yash Mali', 'Male'], ['P00010', 'Samsung M31', 'Gada Ele.', 'Siddhi Kiwale', 'Female'], ['P00011', 'LG TV 32\"', 'Surya Ele.', 'Sanket Kandalkar', 'Male'], ['P00012', 'Lenovo Laptop', 'Raka Ele.', 'Kaustubh Mahajan', 'Male'], ['P00013', 'Samsung M31', 'Surya Ele.', 'Yash Mali', 'Male'], ['P00014', 'Realmi 10pro', 'Raka Ele.', 'Siddhi Kiwale', 'Female'], ['P00015', 'Lenovo Laptop', 'Gada Ele.', 'Tanuja Mali', 'Female'], ['P00016', 'Oppo F21', 'Vijay Sales', 'Kaustubh Mahajan', 'Male'], ['P00017', 'LG TV 32\"', 'Deshmukh sales', 'Sanket Kandalkar', 'Male'], ['P00018', 'Lenovo Laptop', 'Raka Ele.', 'Siddhi Kiwale', 'Female'], ['P00019', 'Samsung M31', 'Deshmukh sales', 'Kaustubh Mahajan', 'Male'], ['P00020', 'LG TV 32\"', 'Gada Ele.', 'Yash Mali', 'Male']]\n",
            "['Product details', 'Lenovo Laptop', 'Samsung M31', 'Realmi 10pro', 'Oppo F21', 'Lenovo Laptop', 'Samsung M31', 'LG TV 32\"', 'Oppo F21', 'Lenovo Laptop', 'Samsung M31', 'LG TV 32\"', 'Lenovo Laptop', 'Samsung M31', 'Realmi 10pro', 'Lenovo Laptop', 'Oppo F21', 'LG TV 32\"', 'Lenovo Laptop', 'Samsung M31', 'LG TV 32\"']\n",
            "['Product ID', 'P00001', 'P00002', 'P00003', 'P00004', 'P00005', 'P00006', 'P00007', 'P00008', 'P00009', 'P00010', 'P00011', 'P00012', 'P00013', 'P00014', 'P00015', 'P00016', 'P00017', 'P00018', 'P00019', 'P00020']\n",
            "{'P00001': 'Raka Ele.', 'P00002': 'Vijay Sales', 'P00003': 'Gada Ele.', 'P00004': 'Surya Ele.', 'P00005': 'Raka Ele.', 'P00006': 'Gada Ele.', 'P00007': 'Vijay Sales', 'P00008': 'Surya Ele.', 'P00009': 'Raka Ele.', 'P00010': 'Gada Ele.', 'P00011': 'Surya Ele.', 'P00012': 'Raka Ele.', 'P00013': 'Surya Ele.', 'P00014': 'Raka Ele.', 'P00015': 'Gada Ele.', 'P00016': 'Vijay Sales', 'P00017': 'Deshmukh sales', 'P00018': 'Raka Ele.', 'P00019': 'Deshmukh sales', 'P00020': 'Gada Ele.'}\n",
            "('Kaustubh Mahajan', 'Siddhi Kiwale', 'Sanket Kandalkar', 'Yash Mali', 'Yash Bagul', 'Siddhi Kiwale', 'Sanket Kandalkar', 'Kaustubh Mahajan', 'Yash Mali', 'Siddhi Kiwale', 'Sanket Kandalkar', 'Kaustubh Mahajan', 'Yash Mali', 'Siddhi Kiwale', 'Tanuja Mali', 'Kaustubh Mahajan', 'Sanket Kandalkar', 'Siddhi Kiwale', 'Kaustubh Mahajan', 'Yash Mali')\n",
            "['Gender', 'Male', 'Female', 'Male', 'Male', 'Male', 'Female', 'Male', 'Male', 'Male', 'Female', 'Male', 'Male', 'Male', 'Female', 'Female', 'Male', 'Male', 'Female', 'Male', 'Male']\n",
            "['Product details', 'Lenovo Laptop', 'Samsung M31', 'Realmi 10pro', 'Oppo F21', 'Lenovo Laptop', 'Samsung M31', 'LG TV 32\"', 'Oppo F21', 'Lenovo Laptop', 'Samsung M31', 'LG TV 32\"', 'Lenovo Laptop', 'Samsung M31', 'Realmi 10pro', 'Lenovo Laptop', 'Oppo F21', 'LG TV 32\"', 'Lenovo Laptop', 'Samsung M31', 'LG TV 32\"', 'Product details', 'Lenovo Laptop', 'Samsung M31', 'Realmi 10pro', 'Oppo F21', 'Lenovo Laptop', 'Samsung M31', 'LG TV 32\"', 'Oppo F21', 'Lenovo Laptop', 'Samsung M31', 'LG TV 32\"', 'Lenovo Laptop', 'Samsung M31', 'Realmi 10pro', 'Lenovo Laptop', 'Oppo F21', 'LG TV 32\"', 'Lenovo Laptop', 'Samsung M31', 'LG TV 32\"']\n",
            "The most popular product for sales is Lenovo Laptop\n",
            "The best supplier for sales is Raka Ele.\n",
            "['Kaustubh Mahajan', 'Siddhi Kiwale', 'Sanket Kandalkar', 'Yash Mali', 'Yash Bagul', 'Siddhi Kiwale', 'Sanket Kandalkar', 'Kaustubh Mahajan', 'Yash Mali', 'Siddhi Kiwale', 'Sanket Kandalkar', 'Kaustubh Mahajan', 'Yash Mali', 'Siddhi Kiwale', 'Tanuja Mali', 'Kaustubh Mahajan', 'Sanket Kandalkar', 'Siddhi Kiwale', 'Kaustubh Mahajan', 'Yash Mali']\n",
            "The customer who buys most of the product is Kaustubh Mahajan\n",
            "The Number of customers who are female are 6\n"
          ]
        }
      ]
    },
    {
      "cell_type": "code",
      "source": [
        "Vegetables=float(input())\n",
        "Grocery=float(input())\n",
        "Dailyneeds=float(input())\n",
        "\n",
        "if Vegetables > 500:\n",
        "    print(\"Sorry, She will not buy daily needs .\")\n",
        "elif Vegetables == Grocery== Dailyneeds== 166.66:\n",
        "    print(\"She can buy all three items.\")\n",
        "\n",
        "else:\n",
        "    print(\"She has to do some changes in budget.\")"
      ],
      "metadata": {
        "colab": {
          "base_uri": "https://localhost:8080/"
        },
        "id": "WNdl-P07sBkE",
        "outputId": "4171cb65-8ca6-487a-cae9-fa1cdb0b17e2"
      },
      "execution_count": null,
      "outputs": [
        {
          "output_type": "stream",
          "name": "stdout",
          "text": [
            "456\n",
            "45\n",
            "7\n",
            "She has to do some changes in budget.\n"
          ]
        }
      ]
    }
  ]
}