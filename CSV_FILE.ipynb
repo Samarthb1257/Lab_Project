{
  "nbformat": 4,
  "nbformat_minor": 0,
  "metadata": {
    "colab": {
      "provenance": []
    },
    "kernelspec": {
      "name": "python3",
      "display_name": "Python 3"
    },
    "language_info": {
      "name": "python"
    }
  },
  "cells": [
    {
      "cell_type": "code",
      "execution_count": null,
      "metadata": {
        "colab": {
          "base_uri": "https://localhost:8080/"
        },
        "id": "uGfTC9nNsg0B",
        "outputId": "e03445f5-9a16-404d-d708-7732dde899e9"
      },
      "outputs": [
        {
          "output_type": "stream",
          "name": "stdout",
          "text": [
            "   Sr.no    Name         Hobby  Age Follow it as passion\n",
            "0      1     john      Reading   12                  Yes\n",
            "1      2    Emily      Cooking   13                   No\n",
            "2      3  Michael  Photography   23                  Yes\n",
            "3      4   Sophia     Painting   14                  Yes\n",
            "4      5   daniel    Traveling   24                   No\n",
            "5      6   Olivia      Writing   25                   No\n",
            "6      7    David      Fishing   11                   No\n",
            "7      8     Emma      Singing   16                  Yes\n",
            "8      9      Ava      Playing   26                  Yes\n",
            "9     10     Bolt         Yoga   17                  Yes\n",
            "   Sr.no  Experience(year)\n",
            "0      1                 2\n",
            "1      2                 3\n",
            "2      3                 6\n",
            "3      4                 3\n",
            "4      5                 7\n",
            "5      6                 4\n",
            "6      7                 2\n",
            "7      8                 5\n",
            "8      9                 1\n",
            "9     10                 9\n"
          ]
        }
      ],
      "source": [
        "import pandas as pd\n",
        "df = pd.read_csv('/hobby CSV.csv')\n",
        "print(df)\n",
        "df1 = pd.read_csv('/Hobby Experience .csv')\n",
        "print(df1)"
      ]
    },
    {
      "cell_type": "code",
      "source": [
        "import pandas as pa\n",
        "df.sort_values(by=['Age'])"
      ],
      "metadata": {
        "colab": {
          "base_uri": "https://localhost:8080/",
          "height": 363
        },
        "id": "aro2oP1qzuAA",
        "outputId": "63bb7be6-cc05-477e-f39b-6936c2e3d9be"
      },
      "execution_count": null,
      "outputs": [
        {
          "output_type": "execute_result",
          "data": {
            "text/plain": [
              "   Sr.no    Name         Hobby  Age Follow it as passion\n",
              "6      7    David      Fishing   11                   No\n",
              "0      1     john      Reading   12                  Yes\n",
              "1      2    Emily      Cooking   13                   No\n",
              "3      4   Sophia     Painting   14                  Yes\n",
              "7      8     Emma      Singing   16                  Yes\n",
              "9     10     Bolt         Yoga   17                  Yes\n",
              "2      3  Michael  Photography   23                  Yes\n",
              "4      5   daniel    Traveling   24                   No\n",
              "5      6   Olivia      Writing   25                   No\n",
              "8      9      Ava      Playing   26                  Yes"
            ],
            "text/html": [
              "\n",
              "  <div id=\"df-6ff5fecf-972b-4b35-bc97-d36370c6bafa\">\n",
              "    <div class=\"colab-df-container\">\n",
              "      <div>\n",
              "<style scoped>\n",
              "    .dataframe tbody tr th:only-of-type {\n",
              "        vertical-align: middle;\n",
              "    }\n",
              "\n",
              "    .dataframe tbody tr th {\n",
              "        vertical-align: top;\n",
              "    }\n",
              "\n",
              "    .dataframe thead th {\n",
              "        text-align: right;\n",
              "    }\n",
              "</style>\n",
              "<table border=\"1\" class=\"dataframe\">\n",
              "  <thead>\n",
              "    <tr style=\"text-align: right;\">\n",
              "      <th></th>\n",
              "      <th>Sr.no</th>\n",
              "      <th>Name</th>\n",
              "      <th>Hobby</th>\n",
              "      <th>Age</th>\n",
              "      <th>Follow it as passion</th>\n",
              "    </tr>\n",
              "  </thead>\n",
              "  <tbody>\n",
              "    <tr>\n",
              "      <th>6</th>\n",
              "      <td>7</td>\n",
              "      <td>David</td>\n",
              "      <td>Fishing</td>\n",
              "      <td>11</td>\n",
              "      <td>No</td>\n",
              "    </tr>\n",
              "    <tr>\n",
              "      <th>0</th>\n",
              "      <td>1</td>\n",
              "      <td>john</td>\n",
              "      <td>Reading</td>\n",
              "      <td>12</td>\n",
              "      <td>Yes</td>\n",
              "    </tr>\n",
              "    <tr>\n",
              "      <th>1</th>\n",
              "      <td>2</td>\n",
              "      <td>Emily</td>\n",
              "      <td>Cooking</td>\n",
              "      <td>13</td>\n",
              "      <td>No</td>\n",
              "    </tr>\n",
              "    <tr>\n",
              "      <th>3</th>\n",
              "      <td>4</td>\n",
              "      <td>Sophia</td>\n",
              "      <td>Painting</td>\n",
              "      <td>14</td>\n",
              "      <td>Yes</td>\n",
              "    </tr>\n",
              "    <tr>\n",
              "      <th>7</th>\n",
              "      <td>8</td>\n",
              "      <td>Emma</td>\n",
              "      <td>Singing</td>\n",
              "      <td>16</td>\n",
              "      <td>Yes</td>\n",
              "    </tr>\n",
              "    <tr>\n",
              "      <th>9</th>\n",
              "      <td>10</td>\n",
              "      <td>Bolt</td>\n",
              "      <td>Yoga</td>\n",
              "      <td>17</td>\n",
              "      <td>Yes</td>\n",
              "    </tr>\n",
              "    <tr>\n",
              "      <th>2</th>\n",
              "      <td>3</td>\n",
              "      <td>Michael</td>\n",
              "      <td>Photography</td>\n",
              "      <td>23</td>\n",
              "      <td>Yes</td>\n",
              "    </tr>\n",
              "    <tr>\n",
              "      <th>4</th>\n",
              "      <td>5</td>\n",
              "      <td>daniel</td>\n",
              "      <td>Traveling</td>\n",
              "      <td>24</td>\n",
              "      <td>No</td>\n",
              "    </tr>\n",
              "    <tr>\n",
              "      <th>5</th>\n",
              "      <td>6</td>\n",
              "      <td>Olivia</td>\n",
              "      <td>Writing</td>\n",
              "      <td>25</td>\n",
              "      <td>No</td>\n",
              "    </tr>\n",
              "    <tr>\n",
              "      <th>8</th>\n",
              "      <td>9</td>\n",
              "      <td>Ava</td>\n",
              "      <td>Playing</td>\n",
              "      <td>26</td>\n",
              "      <td>Yes</td>\n",
              "    </tr>\n",
              "  </tbody>\n",
              "</table>\n",
              "</div>\n",
              "      <button class=\"colab-df-convert\" onclick=\"convertToInteractive('df-6ff5fecf-972b-4b35-bc97-d36370c6bafa')\"\n",
              "              title=\"Convert this dataframe to an interactive table.\"\n",
              "              style=\"display:none;\">\n",
              "        \n",
              "  <svg xmlns=\"http://www.w3.org/2000/svg\" height=\"24px\"viewBox=\"0 0 24 24\"\n",
              "       width=\"24px\">\n",
              "    <path d=\"M0 0h24v24H0V0z\" fill=\"none\"/>\n",
              "    <path d=\"M18.56 5.44l.94 2.06.94-2.06 2.06-.94-2.06-.94-.94-2.06-.94 2.06-2.06.94zm-11 1L8.5 8.5l.94-2.06 2.06-.94-2.06-.94L8.5 2.5l-.94 2.06-2.06.94zm10 10l.94 2.06.94-2.06 2.06-.94-2.06-.94-.94-2.06-.94 2.06-2.06.94z\"/><path d=\"M17.41 7.96l-1.37-1.37c-.4-.4-.92-.59-1.43-.59-.52 0-1.04.2-1.43.59L10.3 9.45l-7.72 7.72c-.78.78-.78 2.05 0 2.83L4 21.41c.39.39.9.59 1.41.59.51 0 1.02-.2 1.41-.59l7.78-7.78 2.81-2.81c.8-.78.8-2.07 0-2.86zM5.41 20L4 18.59l7.72-7.72 1.47 1.35L5.41 20z\"/>\n",
              "  </svg>\n",
              "      </button>\n",
              "      \n",
              "  <style>\n",
              "    .colab-df-container {\n",
              "      display:flex;\n",
              "      flex-wrap:wrap;\n",
              "      gap: 12px;\n",
              "    }\n",
              "\n",
              "    .colab-df-convert {\n",
              "      background-color: #E8F0FE;\n",
              "      border: none;\n",
              "      border-radius: 50%;\n",
              "      cursor: pointer;\n",
              "      display: none;\n",
              "      fill: #1967D2;\n",
              "      height: 32px;\n",
              "      padding: 0 0 0 0;\n",
              "      width: 32px;\n",
              "    }\n",
              "\n",
              "    .colab-df-convert:hover {\n",
              "      background-color: #E2EBFA;\n",
              "      box-shadow: 0px 1px 2px rgba(60, 64, 67, 0.3), 0px 1px 3px 1px rgba(60, 64, 67, 0.15);\n",
              "      fill: #174EA6;\n",
              "    }\n",
              "\n",
              "    [theme=dark] .colab-df-convert {\n",
              "      background-color: #3B4455;\n",
              "      fill: #D2E3FC;\n",
              "    }\n",
              "\n",
              "    [theme=dark] .colab-df-convert:hover {\n",
              "      background-color: #434B5C;\n",
              "      box-shadow: 0px 1px 3px 1px rgba(0, 0, 0, 0.15);\n",
              "      filter: drop-shadow(0px 1px 2px rgba(0, 0, 0, 0.3));\n",
              "      fill: #FFFFFF;\n",
              "    }\n",
              "  </style>\n",
              "\n",
              "      <script>\n",
              "        const buttonEl =\n",
              "          document.querySelector('#df-6ff5fecf-972b-4b35-bc97-d36370c6bafa button.colab-df-convert');\n",
              "        buttonEl.style.display =\n",
              "          google.colab.kernel.accessAllowed ? 'block' : 'none';\n",
              "\n",
              "        async function convertToInteractive(key) {\n",
              "          const element = document.querySelector('#df-6ff5fecf-972b-4b35-bc97-d36370c6bafa');\n",
              "          const dataTable =\n",
              "            await google.colab.kernel.invokeFunction('convertToInteractive',\n",
              "                                                     [key], {});\n",
              "          if (!dataTable) return;\n",
              "\n",
              "          const docLinkHtml = 'Like what you see? Visit the ' +\n",
              "            '<a target=\"_blank\" href=https://colab.research.google.com/notebooks/data_table.ipynb>data table notebook</a>'\n",
              "            + ' to learn more about interactive tables.';\n",
              "          element.innerHTML = '';\n",
              "          dataTable['output_type'] = 'display_data';\n",
              "          await google.colab.output.renderOutput(dataTable, element);\n",
              "          const docLink = document.createElement('div');\n",
              "          docLink.innerHTML = docLinkHtml;\n",
              "          element.appendChild(docLink);\n",
              "        }\n",
              "      </script>\n",
              "    </div>\n",
              "  </div>\n",
              "  "
            ]
          },
          "metadata": {},
          "execution_count": 4
        }
      ]
    },
    {
      "cell_type": "code",
      "source": [
        "df.sort_values(by=['Age'],ascending=False)"
      ],
      "metadata": {
        "colab": {
          "base_uri": "https://localhost:8080/",
          "height": 363
        },
        "id": "gWTZvo1I0KDT",
        "outputId": "797269e5-b34c-4dbc-d4b7-3617e1ac75ad"
      },
      "execution_count": null,
      "outputs": [
        {
          "output_type": "execute_result",
          "data": {
            "text/plain": [
              "   Sr.no    Name         Hobby  Age Follow it as passion\n",
              "8      9      Ava      Playing   26                  Yes\n",
              "5      6   Olivia      Writing   25                   No\n",
              "4      5   daniel    Traveling   24                   No\n",
              "2      3  Michael  Photography   23                  Yes\n",
              "9     10     Bolt         Yoga   17                  Yes\n",
              "7      8     Emma      Singing   16                  Yes\n",
              "3      4   Sophia     Painting   14                  Yes\n",
              "1      2    Emily      Cooking   13                   No\n",
              "0      1     john      Reading   12                  Yes\n",
              "6      7    David      Fishing   11                   No"
            ],
            "text/html": [
              "\n",
              "  <div id=\"df-dab84c99-98e5-4bd8-9563-5127c186b198\">\n",
              "    <div class=\"colab-df-container\">\n",
              "      <div>\n",
              "<style scoped>\n",
              "    .dataframe tbody tr th:only-of-type {\n",
              "        vertical-align: middle;\n",
              "    }\n",
              "\n",
              "    .dataframe tbody tr th {\n",
              "        vertical-align: top;\n",
              "    }\n",
              "\n",
              "    .dataframe thead th {\n",
              "        text-align: right;\n",
              "    }\n",
              "</style>\n",
              "<table border=\"1\" class=\"dataframe\">\n",
              "  <thead>\n",
              "    <tr style=\"text-align: right;\">\n",
              "      <th></th>\n",
              "      <th>Sr.no</th>\n",
              "      <th>Name</th>\n",
              "      <th>Hobby</th>\n",
              "      <th>Age</th>\n",
              "      <th>Follow it as passion</th>\n",
              "    </tr>\n",
              "  </thead>\n",
              "  <tbody>\n",
              "    <tr>\n",
              "      <th>8</th>\n",
              "      <td>9</td>\n",
              "      <td>Ava</td>\n",
              "      <td>Playing</td>\n",
              "      <td>26</td>\n",
              "      <td>Yes</td>\n",
              "    </tr>\n",
              "    <tr>\n",
              "      <th>5</th>\n",
              "      <td>6</td>\n",
              "      <td>Olivia</td>\n",
              "      <td>Writing</td>\n",
              "      <td>25</td>\n",
              "      <td>No</td>\n",
              "    </tr>\n",
              "    <tr>\n",
              "      <th>4</th>\n",
              "      <td>5</td>\n",
              "      <td>daniel</td>\n",
              "      <td>Traveling</td>\n",
              "      <td>24</td>\n",
              "      <td>No</td>\n",
              "    </tr>\n",
              "    <tr>\n",
              "      <th>2</th>\n",
              "      <td>3</td>\n",
              "      <td>Michael</td>\n",
              "      <td>Photography</td>\n",
              "      <td>23</td>\n",
              "      <td>Yes</td>\n",
              "    </tr>\n",
              "    <tr>\n",
              "      <th>9</th>\n",
              "      <td>10</td>\n",
              "      <td>Bolt</td>\n",
              "      <td>Yoga</td>\n",
              "      <td>17</td>\n",
              "      <td>Yes</td>\n",
              "    </tr>\n",
              "    <tr>\n",
              "      <th>7</th>\n",
              "      <td>8</td>\n",
              "      <td>Emma</td>\n",
              "      <td>Singing</td>\n",
              "      <td>16</td>\n",
              "      <td>Yes</td>\n",
              "    </tr>\n",
              "    <tr>\n",
              "      <th>3</th>\n",
              "      <td>4</td>\n",
              "      <td>Sophia</td>\n",
              "      <td>Painting</td>\n",
              "      <td>14</td>\n",
              "      <td>Yes</td>\n",
              "    </tr>\n",
              "    <tr>\n",
              "      <th>1</th>\n",
              "      <td>2</td>\n",
              "      <td>Emily</td>\n",
              "      <td>Cooking</td>\n",
              "      <td>13</td>\n",
              "      <td>No</td>\n",
              "    </tr>\n",
              "    <tr>\n",
              "      <th>0</th>\n",
              "      <td>1</td>\n",
              "      <td>john</td>\n",
              "      <td>Reading</td>\n",
              "      <td>12</td>\n",
              "      <td>Yes</td>\n",
              "    </tr>\n",
              "    <tr>\n",
              "      <th>6</th>\n",
              "      <td>7</td>\n",
              "      <td>David</td>\n",
              "      <td>Fishing</td>\n",
              "      <td>11</td>\n",
              "      <td>No</td>\n",
              "    </tr>\n",
              "  </tbody>\n",
              "</table>\n",
              "</div>\n",
              "      <button class=\"colab-df-convert\" onclick=\"convertToInteractive('df-dab84c99-98e5-4bd8-9563-5127c186b198')\"\n",
              "              title=\"Convert this dataframe to an interactive table.\"\n",
              "              style=\"display:none;\">\n",
              "        \n",
              "  <svg xmlns=\"http://www.w3.org/2000/svg\" height=\"24px\"viewBox=\"0 0 24 24\"\n",
              "       width=\"24px\">\n",
              "    <path d=\"M0 0h24v24H0V0z\" fill=\"none\"/>\n",
              "    <path d=\"M18.56 5.44l.94 2.06.94-2.06 2.06-.94-2.06-.94-.94-2.06-.94 2.06-2.06.94zm-11 1L8.5 8.5l.94-2.06 2.06-.94-2.06-.94L8.5 2.5l-.94 2.06-2.06.94zm10 10l.94 2.06.94-2.06 2.06-.94-2.06-.94-.94-2.06-.94 2.06-2.06.94z\"/><path d=\"M17.41 7.96l-1.37-1.37c-.4-.4-.92-.59-1.43-.59-.52 0-1.04.2-1.43.59L10.3 9.45l-7.72 7.72c-.78.78-.78 2.05 0 2.83L4 21.41c.39.39.9.59 1.41.59.51 0 1.02-.2 1.41-.59l7.78-7.78 2.81-2.81c.8-.78.8-2.07 0-2.86zM5.41 20L4 18.59l7.72-7.72 1.47 1.35L5.41 20z\"/>\n",
              "  </svg>\n",
              "      </button>\n",
              "      \n",
              "  <style>\n",
              "    .colab-df-container {\n",
              "      display:flex;\n",
              "      flex-wrap:wrap;\n",
              "      gap: 12px;\n",
              "    }\n",
              "\n",
              "    .colab-df-convert {\n",
              "      background-color: #E8F0FE;\n",
              "      border: none;\n",
              "      border-radius: 50%;\n",
              "      cursor: pointer;\n",
              "      display: none;\n",
              "      fill: #1967D2;\n",
              "      height: 32px;\n",
              "      padding: 0 0 0 0;\n",
              "      width: 32px;\n",
              "    }\n",
              "\n",
              "    .colab-df-convert:hover {\n",
              "      background-color: #E2EBFA;\n",
              "      box-shadow: 0px 1px 2px rgba(60, 64, 67, 0.3), 0px 1px 3px 1px rgba(60, 64, 67, 0.15);\n",
              "      fill: #174EA6;\n",
              "    }\n",
              "\n",
              "    [theme=dark] .colab-df-convert {\n",
              "      background-color: #3B4455;\n",
              "      fill: #D2E3FC;\n",
              "    }\n",
              "\n",
              "    [theme=dark] .colab-df-convert:hover {\n",
              "      background-color: #434B5C;\n",
              "      box-shadow: 0px 1px 3px 1px rgba(0, 0, 0, 0.15);\n",
              "      filter: drop-shadow(0px 1px 2px rgba(0, 0, 0, 0.3));\n",
              "      fill: #FFFFFF;\n",
              "    }\n",
              "  </style>\n",
              "\n",
              "      <script>\n",
              "        const buttonEl =\n",
              "          document.querySelector('#df-dab84c99-98e5-4bd8-9563-5127c186b198 button.colab-df-convert');\n",
              "        buttonEl.style.display =\n",
              "          google.colab.kernel.accessAllowed ? 'block' : 'none';\n",
              "\n",
              "        async function convertToInteractive(key) {\n",
              "          const element = document.querySelector('#df-dab84c99-98e5-4bd8-9563-5127c186b198');\n",
              "          const dataTable =\n",
              "            await google.colab.kernel.invokeFunction('convertToInteractive',\n",
              "                                                     [key], {});\n",
              "          if (!dataTable) return;\n",
              "\n",
              "          const docLinkHtml = 'Like what you see? Visit the ' +\n",
              "            '<a target=\"_blank\" href=https://colab.research.google.com/notebooks/data_table.ipynb>data table notebook</a>'\n",
              "            + ' to learn more about interactive tables.';\n",
              "          element.innerHTML = '';\n",
              "          dataTable['output_type'] = 'display_data';\n",
              "          await google.colab.output.renderOutput(dataTable, element);\n",
              "          const docLink = document.createElement('div');\n",
              "          docLink.innerHTML = docLinkHtml;\n",
              "          element.appendChild(docLink);\n",
              "        }\n",
              "      </script>\n",
              "    </div>\n",
              "  </div>\n",
              "  "
            ]
          },
          "metadata": {},
          "execution_count": 5
        }
      ]
    },
    {
      "cell_type": "code",
      "source": [
        "import pandas as pd\n",
        "a = pd.merge(df,df1)\n",
        "print(a)"
      ],
      "metadata": {
        "colab": {
          "base_uri": "https://localhost:8080/"
        },
        "id": "foTkhAof0TBo",
        "outputId": "4eae5497-c798-4d25-e294-2ac6608f9abf"
      },
      "execution_count": null,
      "outputs": [
        {
          "output_type": "stream",
          "name": "stdout",
          "text": [
            "   Sr.no    Name         Hobby  Age Follow it as passion  Experience(year)\n",
            "0      1     john      Reading   12                  Yes                 2\n",
            "1      2    Emily      Cooking   13                   No                 3\n",
            "2      3  Michael  Photography   23                  Yes                 6\n",
            "3      4   Sophia     Painting   14                  Yes                 3\n",
            "4      5   daniel    Traveling   24                   No                 7\n",
            "5      6   Olivia      Writing   25                   No                 4\n",
            "6      7    David      Fishing   11                   No                 2\n",
            "7      8     Emma      Singing   16                  Yes                 5\n",
            "8      9      Ava      Playing   26                  Yes                 1\n",
            "9     10     Bolt         Yoga   17                  Yes                 9\n"
          ]
        }
      ]
    },
    {
      "cell_type": "code",
      "source": [
        "def age():\n",
        "  import pandas as pd\n",
        "  a = df.sort_values(by=['Age'],ascending=False)\n",
        "\n",
        "\n",
        "  g = a.nlargest(3,'Age','first')\n",
        "  print(g)\n",
        "age()"
      ],
      "metadata": {
        "colab": {
          "base_uri": "https://localhost:8080/"
        },
        "id": "TaF618o_1j3W",
        "outputId": "1206663c-8ce2-4e07-9886-c16003967142"
      },
      "execution_count": null,
      "outputs": [
        {
          "output_type": "stream",
          "name": "stdout",
          "text": [
            "   Sr.no   Name       Hobby  Age Follow it as passion\n",
            "8      9     Ava    Playing   26                  Yes\n",
            "5      6  Olivia    Writing   25                   No\n",
            "4      5  daniel  Traveling   24                   No\n"
          ]
        }
      ]
    },
    {
      "cell_type": "code",
      "source": [
        "# in array\n",
        "\n",
        "import pandas as pd\n",
        "import numpy as np\n",
        "\n",
        "df = pd.read_csv('/hobby CSV.csv')\n",
        "a = df\n",
        "\n",
        "array = df.to_numpy()\n",
        "print(array)\n",
        "\n",
        "\n",
        "print(array.T)"
      ],
      "metadata": {
        "colab": {
          "base_uri": "https://localhost:8080/"
        },
        "id": "MaxKRZ0M7sXc",
        "outputId": "462b4521-56e8-41bd-b6bf-63c1bfbdc6d8"
      },
      "execution_count": null,
      "outputs": [
        {
          "output_type": "stream",
          "name": "stdout",
          "text": [
            "[[1 'john' 'Reading' 12 'Yes']\n",
            " [2 'Emily' 'Cooking' 13 'No']\n",
            " [3 'Michael' 'Photography' 23 'Yes']\n",
            " [4 'Sophia' 'Painting' 14 'Yes']\n",
            " [5 'daniel' 'Traveling' 24 'No']\n",
            " [6 'Olivia' 'Writing' 25 'No']\n",
            " [7 'David' 'Fishing' 11 'No']\n",
            " [8 'Emma' 'Singing' 16 'Yes']\n",
            " [9 'Ava' 'Playing' 26 'Yes']\n",
            " [10 'Bolt' 'Yoga' 17 'Yes']]\n",
            "[[1 2 3 4 5 6 7 8 9 10]\n",
            " ['john' 'Emily' 'Michael' 'Sophia' 'daniel' 'Olivia' 'David' 'Emma'\n",
            "  'Ava' 'Bolt']\n",
            " ['Reading' 'Cooking' 'Photography' 'Painting' 'Traveling' 'Writing'\n",
            "  'Fishing' 'Singing' 'Playing' 'Yoga']\n",
            " [12 13 23 14 24 25 11 16 26 17]\n",
            " ['Yes' 'No' 'Yes' 'Yes' 'No' 'No' 'No' 'Yes' 'Yes' 'Yes']]\n"
          ]
        }
      ]
    },
    {
      "cell_type": "code",
      "source": [
        "# in list and dict\n",
        "import pandas as pd\n",
        "df = pd.read_csv('/hobby CSV.csv')\n",
        "a = df\n",
        "\n",
        "print(a.values.tolist())\n",
        "\n",
        "b = df.to_dict()\n",
        "print(b)"
      ],
      "metadata": {
        "colab": {
          "base_uri": "https://localhost:8080/"
        },
        "id": "r0DCutSJ7iQs",
        "outputId": "891f89c5-78f7-4b63-b0a2-42b9124953dd"
      },
      "execution_count": null,
      "outputs": [
        {
          "output_type": "stream",
          "name": "stdout",
          "text": [
            "[[1, 'john', 'Reading', 12, 'Yes'], [2, 'Emily', 'Cooking', 13, 'No'], [3, 'Michael', 'Photography', 23, 'Yes'], [4, 'Sophia', 'Painting', 14, 'Yes'], [5, 'daniel', 'Traveling', 24, 'No'], [6, 'Olivia', 'Writing', 25, 'No'], [7, 'David', 'Fishing', 11, 'No'], [8, 'Emma', 'Singing', 16, 'Yes'], [9, 'Ava', 'Playing', 26, 'Yes'], [10, 'Bolt', 'Yoga', 17, 'Yes']]\n",
            "{'Sr.no': {0: 1, 1: 2, 2: 3, 3: 4, 4: 5, 5: 6, 6: 7, 7: 8, 8: 9, 9: 10}, 'Name ': {0: 'john', 1: 'Emily', 2: 'Michael', 3: 'Sophia', 4: 'daniel', 5: 'Olivia', 6: 'David', 7: 'Emma', 8: 'Ava', 9: 'Bolt'}, 'Hobby': {0: 'Reading', 1: 'Cooking', 2: 'Photography', 3: 'Painting', 4: 'Traveling', 5: 'Writing', 6: 'Fishing', 7: 'Singing', 8: 'Playing', 9: 'Yoga'}, 'Age': {0: 12, 1: 13, 2: 23, 3: 14, 4: 24, 5: 25, 6: 11, 7: 16, 8: 26, 9: 17}, 'Follow it as passion': {0: 'Yes', 1: 'No', 2: 'Yes', 3: 'Yes', 4: 'No', 5: 'No', 6: 'No', 7: 'Yes', 8: 'Yes', 9: 'Yes'}}\n"
          ]
        }
      ]
    },
    {
      "cell_type": "code",
      "source": [
        "import pandas as pd\n",
        "df = pd.read_csv('/hobby CSV.csv')\n",
        "b = pd.DataFrame(df)\n",
        "print(b)"
      ],
      "metadata": {
        "colab": {
          "base_uri": "https://localhost:8080/"
        },
        "id": "XUJllcWJ2FHk",
        "outputId": "85bc9973-3b0d-4985-e75c-c0a7c62c7eaa"
      },
      "execution_count": null,
      "outputs": [
        {
          "output_type": "stream",
          "name": "stdout",
          "text": [
            "   Sr.no    Name         Hobby  Age Follow it as passion\n",
            "0      1     john      Reading   12                  Yes\n",
            "1      2    Emily      Cooking   13                   No\n",
            "2      3  Michael  Photography   23                  Yes\n",
            "3      4   Sophia     Painting   14                  Yes\n",
            "4      5   daniel    Traveling   24                   No\n",
            "5      6   Olivia      Writing   25                   No\n",
            "6      7    David      Fishing   11                   No\n",
            "7      8     Emma      Singing   16                  Yes\n",
            "8      9      Ava      Playing   26                  Yes\n",
            "9     10     Bolt         Yoga   17                  Yes\n"
          ]
        }
      ]
    },
    {
      "cell_type": "code",
      "source": [
        "a=df['Age']\n",
        "print(a)"
      ],
      "metadata": {
        "colab": {
          "base_uri": "https://localhost:8080/"
        },
        "id": "SFr1YJ_F2oSU",
        "outputId": "cc1a68b4-2be9-4f08-867d-2d6cc84a9e50"
      },
      "execution_count": null,
      "outputs": [
        {
          "output_type": "stream",
          "name": "stdout",
          "text": [
            "0    12\n",
            "1    13\n",
            "2    23\n",
            "3    14\n",
            "4    24\n",
            "5    25\n",
            "6    11\n",
            "7    16\n",
            "8    26\n",
            "9    17\n",
            "Name: Age, dtype: int64\n"
          ]
        }
      ]
    },
    {
      "cell_type": "code",
      "source": [
        "print(b[['Name ','Age']])\n",
        "g = df.columns.tolist()\n",
        "print(g)"
      ],
      "metadata": {
        "colab": {
          "base_uri": "https://localhost:8080/"
        },
        "id": "3_ELo-Ma2x7d",
        "outputId": "80705714-a09a-4a51-8b5a-7a126b474401"
      },
      "execution_count": null,
      "outputs": [
        {
          "output_type": "stream",
          "name": "stdout",
          "text": [
            "     Name   Age\n",
            "0     john   12\n",
            "1    Emily   13\n",
            "2  Michael   23\n",
            "3   Sophia   14\n",
            "4   daniel   24\n",
            "5   Olivia   25\n",
            "6    David   11\n",
            "7     Emma   16\n",
            "8      Ava   26\n",
            "9     Bolt   17\n",
            "['Sr.no', 'Name ', 'Hobby', 'Age', 'Follow it as passion']\n"
          ]
        }
      ]
    },
    {
      "cell_type": "code",
      "source": [
        "z=df['Name '].value_counts()\n",
        "print(z)"
      ],
      "metadata": {
        "colab": {
          "base_uri": "https://localhost:8080/"
        },
        "id": "vFY0IwTW33LA",
        "outputId": "10e407f7-d496-4a37-d053-71811ce0ce3e"
      },
      "execution_count": null,
      "outputs": [
        {
          "output_type": "stream",
          "name": "stdout",
          "text": [
            "john       1\n",
            "Emily      1\n",
            "Michael    1\n",
            "Sophia     1\n",
            "daniel     1\n",
            "Olivia     1\n",
            "David      1\n",
            "Emma       1\n",
            "Ava        1\n",
            "Bolt       1\n",
            "Name: Name , dtype: int64\n"
          ]
        }
      ]
    },
    {
      "cell_type": "code",
      "source": [
        "x=df['Sr.no'].value_counts()[1]\n",
        "print(x)"
      ],
      "metadata": {
        "colab": {
          "base_uri": "https://localhost:8080/"
        },
        "id": "mhSAITT04JV4",
        "outputId": "b1b28408-85b7-42d6-89b3-281e8ab45963"
      },
      "execution_count": null,
      "outputs": [
        {
          "output_type": "stream",
          "name": "stdout",
          "text": [
            "1\n"
          ]
        }
      ]
    },
    {
      "cell_type": "code",
      "source": [
        "s=df.sort_values(by='Age',ascending=True)\n",
        "print(s)"
      ],
      "metadata": {
        "colab": {
          "base_uri": "https://localhost:8080/"
        },
        "id": "5GImvek74int",
        "outputId": "eba6441a-194c-4217-cd8d-4e126354e3f4"
      },
      "execution_count": null,
      "outputs": [
        {
          "output_type": "stream",
          "name": "stdout",
          "text": [
            "   Sr.no    Name         Hobby  Age Follow it as passion\n",
            "6      7    David      Fishing   11                   No\n",
            "0      1     john      Reading   12                  Yes\n",
            "1      2    Emily      Cooking   13                   No\n",
            "3      4   Sophia     Painting   14                  Yes\n",
            "7      8     Emma      Singing   16                  Yes\n",
            "9     10     Bolt         Yoga   17                  Yes\n",
            "2      3  Michael  Photography   23                  Yes\n",
            "4      5   daniel    Traveling   24                   No\n",
            "5      6   Olivia      Writing   25                   No\n",
            "8      9      Ava      Playing   26                  Yes\n"
          ]
        }
      ]
    },
    {
      "cell_type": "code",
      "source": [
        "import pandas as pd\n",
        "\n",
        "def display_hobby():\n",
        "    df = pd.read_csv('/hobby CSV.csv')\n",
        "\n",
        "\n",
        "    a = df[df['Age'] >=23]\n",
        "\n",
        "    if a.empty:\n",
        "        print(\"No member of Age 14\")\n",
        "    else:\n",
        "        print(\"Name with Age of 14\")\n",
        "        print(a)\n",
        "\n",
        "display_hobby()"
      ],
      "metadata": {
        "colab": {
          "base_uri": "https://localhost:8080/"
        },
        "id": "1OI7Ta9t7I92",
        "outputId": "47a9d8fb-78ce-4601-ddee-0a0658365e63"
      },
      "execution_count": null,
      "outputs": [
        {
          "output_type": "stream",
          "name": "stdout",
          "text": [
            "Name with Age of 14\n",
            "   Sr.no    Name         Hobby  Age Follow it as passion\n",
            "2      3  Michael  Photography   23                  Yes\n",
            "4      5   daniel    Traveling   24                   No\n",
            "5      6   Olivia      Writing   25                   No\n",
            "8      9      Ava      Playing   26                  Yes\n"
          ]
        }
      ]
    },
    {
      "cell_type": "code",
      "source": [
        "import pandas as pd\n",
        "df1=pd.read_csv('/content/Graing CSV.csv')\n",
        "data=df1.values.tolist()\n",
        "\n",
        "a=df1['Price']\n",
        "b=df1['Magazine Name']\n",
        "\n",
        "df1.Price=df1.Price.astype('int64')\n",
        "d=df1['Magazine Name'][df1.Price>500]\n",
        "\n",
        "def book(a,b,d):\n",
        "  print('Book',a,b)\n",
        "book(a,b,d)\n",
        "def book(d):\n",
        "  print('book Details:',d)\n",
        "book(d)"
      ],
      "metadata": {
        "colab": {
          "base_uri": "https://localhost:8080/"
        },
        "id": "EohXXXXQi46I",
        "outputId": "8e06c4e3-8c34-4237-9cc0-a4c33805bfb7"
      },
      "execution_count": null,
      "outputs": [
        {
          "output_type": "stream",
          "name": "stdout",
          "text": [
            "Book 0     1500\n",
            "1     1700\n",
            "2     1900\n",
            "3     2000\n",
            "4     1600\n",
            "5     2500\n",
            "6     3200\n",
            "7     2300\n",
            "8      900\n",
            "9      500\n",
            "10    1000\n",
            "11    4300\n",
            "12    5000\n",
            "13    3000\n",
            "14    1500\n",
            "15    1300\n",
            "16    2400\n",
            "17    2200\n",
            "18    1950\n",
            "19    4000\n",
            "Name: Price, dtype: int64 0          Tech today\n",
            "1            PC World\n",
            "2        Code Journal\n",
            "3         Gaming Book\n",
            "4       Data Insights\n",
            "5         Tech trends\n",
            "6            PC Gamer\n",
            "7      Software world\n",
            "8        Network News\n",
            "9       Web Developer\n",
            "10     Cyber Security\n",
            "11       Data Science\n",
            "12      Tech Business\n",
            "13            Tech AI\n",
            "14    Cloud Computing\n",
            "15                IoT\n",
            "16    Hardware sights\n",
            "17         Game World\n",
            "18      Data analysis\n",
            "19           PC Files\n",
            "Name: Magazine Name, dtype: object\n",
            "book Details: 0          Tech today\n",
            "1            PC World\n",
            "2        Code Journal\n",
            "3         Gaming Book\n",
            "4       Data Insights\n",
            "5         Tech trends\n",
            "6            PC Gamer\n",
            "7      Software world\n",
            "8        Network News\n",
            "10     Cyber Security\n",
            "11       Data Science\n",
            "12      Tech Business\n",
            "13            Tech AI\n",
            "14    Cloud Computing\n",
            "15                IoT\n",
            "16    Hardware sights\n",
            "17         Game World\n",
            "18      Data analysis\n",
            "19           PC Files\n",
            "Name: Magazine Name, dtype: object\n"
          ]
        }
      ]
    },
    {
      "cell_type": "markdown",
      "source": [
        "Q.1) Display CSV"
      ],
      "metadata": {
        "id": "1b7t_kr0Z6g6"
      }
    },
    {
      "cell_type": "code",
      "source": [
        "import pandas as pd\n",
        "df = pd.read_csv('/content/dataset1.csv')\n",
        "print(df)"
      ],
      "metadata": {
        "colab": {
          "base_uri": "https://localhost:8080/"
        },
        "id": "6w619_peSJGD",
        "outputId": "4c2e6406-b0c9-4ff9-9326-51f939fc62d3"
      },
      "execution_count": null,
      "outputs": [
        {
          "output_type": "stream",
          "name": "stdout",
          "text": [
            "    Year Format        Host    Final Venue     Winner     Margin   Runner up\n",
            "0   1984    ODI         UAE        Sharjah      India    54 runs    Pakistan\n",
            "1   1986    ODI   Sri Lanka  Colombo (SSC)  Sri Lanka  5 wickets    Pakistan\n",
            "2   1988    ODI  Bangladesh          Dhaka      India  6 wickets   Sri Lanka\n",
            "3   1991    ODI       India        Kolkata      India  7 wickets   Sri Lanka\n",
            "4   1995   T20I         UAE        Sharjah      India  8 wickets   Sri Lanka\n",
            "5   1997    ODI   Sri Lanka  Colombo (RPS)  Sri Lanka  8 wickets       India\n",
            "6   2000    ODI  Bangladesh          Dhaka   Pakistan    39 runs   Sri Lanka\n",
            "7   2004    ODI   Sri Lanka  Colombo (RPS)  Sri Lanka    25 runs       India\n",
            "8   2008   T20I    Pakistan        Karachi  Sri Lanka   100 runs       India\n",
            "9   2010    ODI   Sri Lanka       Dambulla      India    81 runs   Sri Lanka\n",
            "10  2012    ODI  Bangladesh         Mirpur   Pakistan     2 runs  Bangladesh\n",
            "11  2014    ODI  Bangladesh         Mirpur  Sri Lanka  5 wickets    Pakistan\n",
            "12  2016   T20I  Bangladesh         Mirpur      India  8 wickets  Bangladesh\n"
          ]
        }
      ]
    },
    {
      "cell_type": "markdown",
      "source": [
        "Q.2) Sort by Year Ascending"
      ],
      "metadata": {
        "id": "aLsSL774aNBL"
      }
    },
    {
      "cell_type": "code",
      "source": [
        "df.sort_values(by=['Year'])"
      ],
      "metadata": {
        "colab": {
          "base_uri": "https://localhost:8080/",
          "height": 457
        },
        "id": "ovgyRsxIULb2",
        "outputId": "cde4aba4-a99b-4fd1-989e-5e6a10b86b94"
      },
      "execution_count": null,
      "outputs": [
        {
          "output_type": "execute_result",
          "data": {
            "text/plain": [
              "    Year Format        Host    Final Venue     Winner     Margin   Runner up\n",
              "0   1984    ODI         UAE        Sharjah      India    54 runs    Pakistan\n",
              "1   1986    ODI   Sri Lanka  Colombo (SSC)  Sri Lanka  5 wickets    Pakistan\n",
              "2   1988    ODI  Bangladesh          Dhaka      India  6 wickets   Sri Lanka\n",
              "3   1991    ODI       India        Kolkata      India  7 wickets   Sri Lanka\n",
              "4   1995   T20I         UAE        Sharjah      India  8 wickets   Sri Lanka\n",
              "5   1997    ODI   Sri Lanka  Colombo (RPS)  Sri Lanka  8 wickets       India\n",
              "6   2000    ODI  Bangladesh          Dhaka   Pakistan    39 runs   Sri Lanka\n",
              "7   2004    ODI   Sri Lanka  Colombo (RPS)  Sri Lanka    25 runs       India\n",
              "8   2008   T20I    Pakistan        Karachi  Sri Lanka   100 runs       India\n",
              "9   2010    ODI   Sri Lanka       Dambulla      India    81 runs   Sri Lanka\n",
              "10  2012    ODI  Bangladesh         Mirpur   Pakistan     2 runs  Bangladesh\n",
              "11  2014    ODI  Bangladesh         Mirpur  Sri Lanka  5 wickets    Pakistan\n",
              "12  2016   T20I  Bangladesh         Mirpur      India  8 wickets  Bangladesh"
            ],
            "text/html": [
              "\n",
              "  <div id=\"df-5d852625-85e4-4d6b-8744-c1a8c5b68ca2\">\n",
              "    <div class=\"colab-df-container\">\n",
              "      <div>\n",
              "<style scoped>\n",
              "    .dataframe tbody tr th:only-of-type {\n",
              "        vertical-align: middle;\n",
              "    }\n",
              "\n",
              "    .dataframe tbody tr th {\n",
              "        vertical-align: top;\n",
              "    }\n",
              "\n",
              "    .dataframe thead th {\n",
              "        text-align: right;\n",
              "    }\n",
              "</style>\n",
              "<table border=\"1\" class=\"dataframe\">\n",
              "  <thead>\n",
              "    <tr style=\"text-align: right;\">\n",
              "      <th></th>\n",
              "      <th>Year</th>\n",
              "      <th>Format</th>\n",
              "      <th>Host</th>\n",
              "      <th>Final Venue</th>\n",
              "      <th>Winner</th>\n",
              "      <th>Margin</th>\n",
              "      <th>Runner up</th>\n",
              "    </tr>\n",
              "  </thead>\n",
              "  <tbody>\n",
              "    <tr>\n",
              "      <th>0</th>\n",
              "      <td>1984</td>\n",
              "      <td>ODI</td>\n",
              "      <td>UAE</td>\n",
              "      <td>Sharjah</td>\n",
              "      <td>India</td>\n",
              "      <td>54 runs</td>\n",
              "      <td>Pakistan</td>\n",
              "    </tr>\n",
              "    <tr>\n",
              "      <th>1</th>\n",
              "      <td>1986</td>\n",
              "      <td>ODI</td>\n",
              "      <td>Sri Lanka</td>\n",
              "      <td>Colombo (SSC)</td>\n",
              "      <td>Sri Lanka</td>\n",
              "      <td>5 wickets</td>\n",
              "      <td>Pakistan</td>\n",
              "    </tr>\n",
              "    <tr>\n",
              "      <th>2</th>\n",
              "      <td>1988</td>\n",
              "      <td>ODI</td>\n",
              "      <td>Bangladesh</td>\n",
              "      <td>Dhaka</td>\n",
              "      <td>India</td>\n",
              "      <td>6 wickets</td>\n",
              "      <td>Sri Lanka</td>\n",
              "    </tr>\n",
              "    <tr>\n",
              "      <th>3</th>\n",
              "      <td>1991</td>\n",
              "      <td>ODI</td>\n",
              "      <td>India</td>\n",
              "      <td>Kolkata</td>\n",
              "      <td>India</td>\n",
              "      <td>7 wickets</td>\n",
              "      <td>Sri Lanka</td>\n",
              "    </tr>\n",
              "    <tr>\n",
              "      <th>4</th>\n",
              "      <td>1995</td>\n",
              "      <td>T20I</td>\n",
              "      <td>UAE</td>\n",
              "      <td>Sharjah</td>\n",
              "      <td>India</td>\n",
              "      <td>8 wickets</td>\n",
              "      <td>Sri Lanka</td>\n",
              "    </tr>\n",
              "    <tr>\n",
              "      <th>5</th>\n",
              "      <td>1997</td>\n",
              "      <td>ODI</td>\n",
              "      <td>Sri Lanka</td>\n",
              "      <td>Colombo (RPS)</td>\n",
              "      <td>Sri Lanka</td>\n",
              "      <td>8 wickets</td>\n",
              "      <td>India</td>\n",
              "    </tr>\n",
              "    <tr>\n",
              "      <th>6</th>\n",
              "      <td>2000</td>\n",
              "      <td>ODI</td>\n",
              "      <td>Bangladesh</td>\n",
              "      <td>Dhaka</td>\n",
              "      <td>Pakistan</td>\n",
              "      <td>39 runs</td>\n",
              "      <td>Sri Lanka</td>\n",
              "    </tr>\n",
              "    <tr>\n",
              "      <th>7</th>\n",
              "      <td>2004</td>\n",
              "      <td>ODI</td>\n",
              "      <td>Sri Lanka</td>\n",
              "      <td>Colombo (RPS)</td>\n",
              "      <td>Sri Lanka</td>\n",
              "      <td>25 runs</td>\n",
              "      <td>India</td>\n",
              "    </tr>\n",
              "    <tr>\n",
              "      <th>8</th>\n",
              "      <td>2008</td>\n",
              "      <td>T20I</td>\n",
              "      <td>Pakistan</td>\n",
              "      <td>Karachi</td>\n",
              "      <td>Sri Lanka</td>\n",
              "      <td>100 runs</td>\n",
              "      <td>India</td>\n",
              "    </tr>\n",
              "    <tr>\n",
              "      <th>9</th>\n",
              "      <td>2010</td>\n",
              "      <td>ODI</td>\n",
              "      <td>Sri Lanka</td>\n",
              "      <td>Dambulla</td>\n",
              "      <td>India</td>\n",
              "      <td>81 runs</td>\n",
              "      <td>Sri Lanka</td>\n",
              "    </tr>\n",
              "    <tr>\n",
              "      <th>10</th>\n",
              "      <td>2012</td>\n",
              "      <td>ODI</td>\n",
              "      <td>Bangladesh</td>\n",
              "      <td>Mirpur</td>\n",
              "      <td>Pakistan</td>\n",
              "      <td>2 runs</td>\n",
              "      <td>Bangladesh</td>\n",
              "    </tr>\n",
              "    <tr>\n",
              "      <th>11</th>\n",
              "      <td>2014</td>\n",
              "      <td>ODI</td>\n",
              "      <td>Bangladesh</td>\n",
              "      <td>Mirpur</td>\n",
              "      <td>Sri Lanka</td>\n",
              "      <td>5 wickets</td>\n",
              "      <td>Pakistan</td>\n",
              "    </tr>\n",
              "    <tr>\n",
              "      <th>12</th>\n",
              "      <td>2016</td>\n",
              "      <td>T20I</td>\n",
              "      <td>Bangladesh</td>\n",
              "      <td>Mirpur</td>\n",
              "      <td>India</td>\n",
              "      <td>8 wickets</td>\n",
              "      <td>Bangladesh</td>\n",
              "    </tr>\n",
              "  </tbody>\n",
              "</table>\n",
              "</div>\n",
              "      <button class=\"colab-df-convert\" onclick=\"convertToInteractive('df-5d852625-85e4-4d6b-8744-c1a8c5b68ca2')\"\n",
              "              title=\"Convert this dataframe to an interactive table.\"\n",
              "              style=\"display:none;\">\n",
              "        \n",
              "  <svg xmlns=\"http://www.w3.org/2000/svg\" height=\"24px\"viewBox=\"0 0 24 24\"\n",
              "       width=\"24px\">\n",
              "    <path d=\"M0 0h24v24H0V0z\" fill=\"none\"/>\n",
              "    <path d=\"M18.56 5.44l.94 2.06.94-2.06 2.06-.94-2.06-.94-.94-2.06-.94 2.06-2.06.94zm-11 1L8.5 8.5l.94-2.06 2.06-.94-2.06-.94L8.5 2.5l-.94 2.06-2.06.94zm10 10l.94 2.06.94-2.06 2.06-.94-2.06-.94-.94-2.06-.94 2.06-2.06.94z\"/><path d=\"M17.41 7.96l-1.37-1.37c-.4-.4-.92-.59-1.43-.59-.52 0-1.04.2-1.43.59L10.3 9.45l-7.72 7.72c-.78.78-.78 2.05 0 2.83L4 21.41c.39.39.9.59 1.41.59.51 0 1.02-.2 1.41-.59l7.78-7.78 2.81-2.81c.8-.78.8-2.07 0-2.86zM5.41 20L4 18.59l7.72-7.72 1.47 1.35L5.41 20z\"/>\n",
              "  </svg>\n",
              "      </button>\n",
              "      \n",
              "  <style>\n",
              "    .colab-df-container {\n",
              "      display:flex;\n",
              "      flex-wrap:wrap;\n",
              "      gap: 12px;\n",
              "    }\n",
              "\n",
              "    .colab-df-convert {\n",
              "      background-color: #E8F0FE;\n",
              "      border: none;\n",
              "      border-radius: 50%;\n",
              "      cursor: pointer;\n",
              "      display: none;\n",
              "      fill: #1967D2;\n",
              "      height: 32px;\n",
              "      padding: 0 0 0 0;\n",
              "      width: 32px;\n",
              "    }\n",
              "\n",
              "    .colab-df-convert:hover {\n",
              "      background-color: #E2EBFA;\n",
              "      box-shadow: 0px 1px 2px rgba(60, 64, 67, 0.3), 0px 1px 3px 1px rgba(60, 64, 67, 0.15);\n",
              "      fill: #174EA6;\n",
              "    }\n",
              "\n",
              "    [theme=dark] .colab-df-convert {\n",
              "      background-color: #3B4455;\n",
              "      fill: #D2E3FC;\n",
              "    }\n",
              "\n",
              "    [theme=dark] .colab-df-convert:hover {\n",
              "      background-color: #434B5C;\n",
              "      box-shadow: 0px 1px 3px 1px rgba(0, 0, 0, 0.15);\n",
              "      filter: drop-shadow(0px 1px 2px rgba(0, 0, 0, 0.3));\n",
              "      fill: #FFFFFF;\n",
              "    }\n",
              "  </style>\n",
              "\n",
              "      <script>\n",
              "        const buttonEl =\n",
              "          document.querySelector('#df-5d852625-85e4-4d6b-8744-c1a8c5b68ca2 button.colab-df-convert');\n",
              "        buttonEl.style.display =\n",
              "          google.colab.kernel.accessAllowed ? 'block' : 'none';\n",
              "\n",
              "        async function convertToInteractive(key) {\n",
              "          const element = document.querySelector('#df-5d852625-85e4-4d6b-8744-c1a8c5b68ca2');\n",
              "          const dataTable =\n",
              "            await google.colab.kernel.invokeFunction('convertToInteractive',\n",
              "                                                     [key], {});\n",
              "          if (!dataTable) return;\n",
              "\n",
              "          const docLinkHtml = 'Like what you see? Visit the ' +\n",
              "            '<a target=\"_blank\" href=https://colab.research.google.com/notebooks/data_table.ipynb>data table notebook</a>'\n",
              "            + ' to learn more about interactive tables.';\n",
              "          element.innerHTML = '';\n",
              "          dataTable['output_type'] = 'display_data';\n",
              "          await google.colab.output.renderOutput(dataTable, element);\n",
              "          const docLink = document.createElement('div');\n",
              "          docLink.innerHTML = docLinkHtml;\n",
              "          element.appendChild(docLink);\n",
              "        }\n",
              "      </script>\n",
              "    </div>\n",
              "  </div>\n",
              "  "
            ]
          },
          "metadata": {},
          "execution_count": 3
        }
      ]
    },
    {
      "cell_type": "markdown",
      "source": [
        "Q.3)Sort Year by Decending order"
      ],
      "metadata": {
        "id": "5nKuvBqyahUn"
      }
    },
    {
      "cell_type": "code",
      "source": [
        "df.sort_values(by=['Year'],ascending=False)"
      ],
      "metadata": {
        "colab": {
          "base_uri": "https://localhost:8080/",
          "height": 457
        },
        "id": "p-LBodOaVFNm",
        "outputId": "48c66570-a4c1-426e-ccac-21274f0b5fde"
      },
      "execution_count": null,
      "outputs": [
        {
          "output_type": "execute_result",
          "data": {
            "text/plain": [
              "    Year Format        Host    Final Venue     Winner     Margin   Runner up\n",
              "12  2016   T20I  Bangladesh         Mirpur      India  8 wickets  Bangladesh\n",
              "11  2014    ODI  Bangladesh         Mirpur  Sri Lanka  5 wickets    Pakistan\n",
              "10  2012    ODI  Bangladesh         Mirpur   Pakistan     2 runs  Bangladesh\n",
              "9   2010    ODI   Sri Lanka       Dambulla      India    81 runs   Sri Lanka\n",
              "8   2008   T20I    Pakistan        Karachi  Sri Lanka   100 runs       India\n",
              "7   2004    ODI   Sri Lanka  Colombo (RPS)  Sri Lanka    25 runs       India\n",
              "6   2000    ODI  Bangladesh          Dhaka   Pakistan    39 runs   Sri Lanka\n",
              "5   1997    ODI   Sri Lanka  Colombo (RPS)  Sri Lanka  8 wickets       India\n",
              "4   1995   T20I         UAE        Sharjah      India  8 wickets   Sri Lanka\n",
              "3   1991    ODI       India        Kolkata      India  7 wickets   Sri Lanka\n",
              "2   1988    ODI  Bangladesh          Dhaka      India  6 wickets   Sri Lanka\n",
              "1   1986    ODI   Sri Lanka  Colombo (SSC)  Sri Lanka  5 wickets    Pakistan\n",
              "0   1984    ODI         UAE        Sharjah      India    54 runs    Pakistan"
            ],
            "text/html": [
              "\n",
              "  <div id=\"df-9182c73d-34f0-41aa-b12f-0d317c8fb780\">\n",
              "    <div class=\"colab-df-container\">\n",
              "      <div>\n",
              "<style scoped>\n",
              "    .dataframe tbody tr th:only-of-type {\n",
              "        vertical-align: middle;\n",
              "    }\n",
              "\n",
              "    .dataframe tbody tr th {\n",
              "        vertical-align: top;\n",
              "    }\n",
              "\n",
              "    .dataframe thead th {\n",
              "        text-align: right;\n",
              "    }\n",
              "</style>\n",
              "<table border=\"1\" class=\"dataframe\">\n",
              "  <thead>\n",
              "    <tr style=\"text-align: right;\">\n",
              "      <th></th>\n",
              "      <th>Year</th>\n",
              "      <th>Format</th>\n",
              "      <th>Host</th>\n",
              "      <th>Final Venue</th>\n",
              "      <th>Winner</th>\n",
              "      <th>Margin</th>\n",
              "      <th>Runner up</th>\n",
              "    </tr>\n",
              "  </thead>\n",
              "  <tbody>\n",
              "    <tr>\n",
              "      <th>12</th>\n",
              "      <td>2016</td>\n",
              "      <td>T20I</td>\n",
              "      <td>Bangladesh</td>\n",
              "      <td>Mirpur</td>\n",
              "      <td>India</td>\n",
              "      <td>8 wickets</td>\n",
              "      <td>Bangladesh</td>\n",
              "    </tr>\n",
              "    <tr>\n",
              "      <th>11</th>\n",
              "      <td>2014</td>\n",
              "      <td>ODI</td>\n",
              "      <td>Bangladesh</td>\n",
              "      <td>Mirpur</td>\n",
              "      <td>Sri Lanka</td>\n",
              "      <td>5 wickets</td>\n",
              "      <td>Pakistan</td>\n",
              "    </tr>\n",
              "    <tr>\n",
              "      <th>10</th>\n",
              "      <td>2012</td>\n",
              "      <td>ODI</td>\n",
              "      <td>Bangladesh</td>\n",
              "      <td>Mirpur</td>\n",
              "      <td>Pakistan</td>\n",
              "      <td>2 runs</td>\n",
              "      <td>Bangladesh</td>\n",
              "    </tr>\n",
              "    <tr>\n",
              "      <th>9</th>\n",
              "      <td>2010</td>\n",
              "      <td>ODI</td>\n",
              "      <td>Sri Lanka</td>\n",
              "      <td>Dambulla</td>\n",
              "      <td>India</td>\n",
              "      <td>81 runs</td>\n",
              "      <td>Sri Lanka</td>\n",
              "    </tr>\n",
              "    <tr>\n",
              "      <th>8</th>\n",
              "      <td>2008</td>\n",
              "      <td>T20I</td>\n",
              "      <td>Pakistan</td>\n",
              "      <td>Karachi</td>\n",
              "      <td>Sri Lanka</td>\n",
              "      <td>100 runs</td>\n",
              "      <td>India</td>\n",
              "    </tr>\n",
              "    <tr>\n",
              "      <th>7</th>\n",
              "      <td>2004</td>\n",
              "      <td>ODI</td>\n",
              "      <td>Sri Lanka</td>\n",
              "      <td>Colombo (RPS)</td>\n",
              "      <td>Sri Lanka</td>\n",
              "      <td>25 runs</td>\n",
              "      <td>India</td>\n",
              "    </tr>\n",
              "    <tr>\n",
              "      <th>6</th>\n",
              "      <td>2000</td>\n",
              "      <td>ODI</td>\n",
              "      <td>Bangladesh</td>\n",
              "      <td>Dhaka</td>\n",
              "      <td>Pakistan</td>\n",
              "      <td>39 runs</td>\n",
              "      <td>Sri Lanka</td>\n",
              "    </tr>\n",
              "    <tr>\n",
              "      <th>5</th>\n",
              "      <td>1997</td>\n",
              "      <td>ODI</td>\n",
              "      <td>Sri Lanka</td>\n",
              "      <td>Colombo (RPS)</td>\n",
              "      <td>Sri Lanka</td>\n",
              "      <td>8 wickets</td>\n",
              "      <td>India</td>\n",
              "    </tr>\n",
              "    <tr>\n",
              "      <th>4</th>\n",
              "      <td>1995</td>\n",
              "      <td>T20I</td>\n",
              "      <td>UAE</td>\n",
              "      <td>Sharjah</td>\n",
              "      <td>India</td>\n",
              "      <td>8 wickets</td>\n",
              "      <td>Sri Lanka</td>\n",
              "    </tr>\n",
              "    <tr>\n",
              "      <th>3</th>\n",
              "      <td>1991</td>\n",
              "      <td>ODI</td>\n",
              "      <td>India</td>\n",
              "      <td>Kolkata</td>\n",
              "      <td>India</td>\n",
              "      <td>7 wickets</td>\n",
              "      <td>Sri Lanka</td>\n",
              "    </tr>\n",
              "    <tr>\n",
              "      <th>2</th>\n",
              "      <td>1988</td>\n",
              "      <td>ODI</td>\n",
              "      <td>Bangladesh</td>\n",
              "      <td>Dhaka</td>\n",
              "      <td>India</td>\n",
              "      <td>6 wickets</td>\n",
              "      <td>Sri Lanka</td>\n",
              "    </tr>\n",
              "    <tr>\n",
              "      <th>1</th>\n",
              "      <td>1986</td>\n",
              "      <td>ODI</td>\n",
              "      <td>Sri Lanka</td>\n",
              "      <td>Colombo (SSC)</td>\n",
              "      <td>Sri Lanka</td>\n",
              "      <td>5 wickets</td>\n",
              "      <td>Pakistan</td>\n",
              "    </tr>\n",
              "    <tr>\n",
              "      <th>0</th>\n",
              "      <td>1984</td>\n",
              "      <td>ODI</td>\n",
              "      <td>UAE</td>\n",
              "      <td>Sharjah</td>\n",
              "      <td>India</td>\n",
              "      <td>54 runs</td>\n",
              "      <td>Pakistan</td>\n",
              "    </tr>\n",
              "  </tbody>\n",
              "</table>\n",
              "</div>\n",
              "      <button class=\"colab-df-convert\" onclick=\"convertToInteractive('df-9182c73d-34f0-41aa-b12f-0d317c8fb780')\"\n",
              "              title=\"Convert this dataframe to an interactive table.\"\n",
              "              style=\"display:none;\">\n",
              "        \n",
              "  <svg xmlns=\"http://www.w3.org/2000/svg\" height=\"24px\"viewBox=\"0 0 24 24\"\n",
              "       width=\"24px\">\n",
              "    <path d=\"M0 0h24v24H0V0z\" fill=\"none\"/>\n",
              "    <path d=\"M18.56 5.44l.94 2.06.94-2.06 2.06-.94-2.06-.94-.94-2.06-.94 2.06-2.06.94zm-11 1L8.5 8.5l.94-2.06 2.06-.94-2.06-.94L8.5 2.5l-.94 2.06-2.06.94zm10 10l.94 2.06.94-2.06 2.06-.94-2.06-.94-.94-2.06-.94 2.06-2.06.94z\"/><path d=\"M17.41 7.96l-1.37-1.37c-.4-.4-.92-.59-1.43-.59-.52 0-1.04.2-1.43.59L10.3 9.45l-7.72 7.72c-.78.78-.78 2.05 0 2.83L4 21.41c.39.39.9.59 1.41.59.51 0 1.02-.2 1.41-.59l7.78-7.78 2.81-2.81c.8-.78.8-2.07 0-2.86zM5.41 20L4 18.59l7.72-7.72 1.47 1.35L5.41 20z\"/>\n",
              "  </svg>\n",
              "      </button>\n",
              "      \n",
              "  <style>\n",
              "    .colab-df-container {\n",
              "      display:flex;\n",
              "      flex-wrap:wrap;\n",
              "      gap: 12px;\n",
              "    }\n",
              "\n",
              "    .colab-df-convert {\n",
              "      background-color: #E8F0FE;\n",
              "      border: none;\n",
              "      border-radius: 50%;\n",
              "      cursor: pointer;\n",
              "      display: none;\n",
              "      fill: #1967D2;\n",
              "      height: 32px;\n",
              "      padding: 0 0 0 0;\n",
              "      width: 32px;\n",
              "    }\n",
              "\n",
              "    .colab-df-convert:hover {\n",
              "      background-color: #E2EBFA;\n",
              "      box-shadow: 0px 1px 2px rgba(60, 64, 67, 0.3), 0px 1px 3px 1px rgba(60, 64, 67, 0.15);\n",
              "      fill: #174EA6;\n",
              "    }\n",
              "\n",
              "    [theme=dark] .colab-df-convert {\n",
              "      background-color: #3B4455;\n",
              "      fill: #D2E3FC;\n",
              "    }\n",
              "\n",
              "    [theme=dark] .colab-df-convert:hover {\n",
              "      background-color: #434B5C;\n",
              "      box-shadow: 0px 1px 3px 1px rgba(0, 0, 0, 0.15);\n",
              "      filter: drop-shadow(0px 1px 2px rgba(0, 0, 0, 0.3));\n",
              "      fill: #FFFFFF;\n",
              "    }\n",
              "  </style>\n",
              "\n",
              "      <script>\n",
              "        const buttonEl =\n",
              "          document.querySelector('#df-9182c73d-34f0-41aa-b12f-0d317c8fb780 button.colab-df-convert');\n",
              "        buttonEl.style.display =\n",
              "          google.colab.kernel.accessAllowed ? 'block' : 'none';\n",
              "\n",
              "        async function convertToInteractive(key) {\n",
              "          const element = document.querySelector('#df-9182c73d-34f0-41aa-b12f-0d317c8fb780');\n",
              "          const dataTable =\n",
              "            await google.colab.kernel.invokeFunction('convertToInteractive',\n",
              "                                                     [key], {});\n",
              "          if (!dataTable) return;\n",
              "\n",
              "          const docLinkHtml = 'Like what you see? Visit the ' +\n",
              "            '<a target=\"_blank\" href=https://colab.research.google.com/notebooks/data_table.ipynb>data table notebook</a>'\n",
              "            + ' to learn more about interactive tables.';\n",
              "          element.innerHTML = '';\n",
              "          dataTable['output_type'] = 'display_data';\n",
              "          await google.colab.output.renderOutput(dataTable, element);\n",
              "          const docLink = document.createElement('div');\n",
              "          docLink.innerHTML = docLinkHtml;\n",
              "          element.appendChild(docLink);\n",
              "        }\n",
              "      </script>\n",
              "    </div>\n",
              "  </div>\n",
              "  "
            ]
          },
          "metadata": {},
          "execution_count": 6
        }
      ]
    },
    {
      "cell_type": "markdown",
      "source": [
        "Q.3)Display First 3."
      ],
      "metadata": {
        "id": "EFBEVxNUauIl"
      }
    },
    {
      "cell_type": "code",
      "source": [
        "def a():\n",
        "  import pandas as pd\n",
        "  a = df.sort_values(by=['Year'],ascending=False)\n",
        "\n",
        "\n",
        "  g = a.nlargest(3,'Year','first')\n",
        "  print(g)\n",
        "a()"
      ],
      "metadata": {
        "colab": {
          "base_uri": "https://localhost:8080/"
        },
        "id": "-mMjUfAMVi1K",
        "outputId": "79e0c2a8-7289-4a06-c056-5fc90a0a2464"
      },
      "execution_count": null,
      "outputs": [
        {
          "output_type": "stream",
          "name": "stdout",
          "text": [
            "    Year Format        Host Final Venue     Winner     Margin   Runner up\n",
            "12  2016   T20I  Bangladesh      Mirpur      India  8 wickets  Bangladesh\n",
            "11  2014    ODI  Bangladesh      Mirpur  Sri Lanka  5 wickets    Pakistan\n",
            "10  2012    ODI  Bangladesh      Mirpur   Pakistan     2 runs  Bangladesh\n"
          ]
        }
      ]
    },
    {
      "cell_type": "markdown",
      "source": [
        "Q.4)Convert to array."
      ],
      "metadata": {
        "id": "iYPSkyYla8Oq"
      }
    },
    {
      "cell_type": "code",
      "source": [
        "# in array\n",
        "\n",
        "import pandas as pd\n",
        "import numpy as np\n",
        "\n",
        "df = pd.read_csv('/content/dataset1.csv')\n",
        "a = df\n",
        "\n",
        "array = df.to_numpy()\n",
        "print(array)\n",
        "\n",
        "\n",
        "print(array.T)"
      ],
      "metadata": {
        "colab": {
          "base_uri": "https://localhost:8080/"
        },
        "id": "UWpX_kK4Vy-_",
        "outputId": "44c38361-4b2c-447a-bb77-9a0ff633541f"
      },
      "execution_count": null,
      "outputs": [
        {
          "output_type": "stream",
          "name": "stdout",
          "text": [
            "[[1984 'ODI' 'UAE' 'Sharjah' 'India' '54 runs' 'Pakistan']\n",
            " [1986 'ODI' 'Sri Lanka' 'Colombo (SSC)' 'Sri Lanka' '5 wickets'\n",
            "  'Pakistan']\n",
            " [1988 'ODI' 'Bangladesh' 'Dhaka' 'India' '6 wickets' 'Sri Lanka']\n",
            " [1991 'ODI' 'India' 'Kolkata' 'India' '7 wickets' 'Sri Lanka']\n",
            " [1995 'T20I' 'UAE' 'Sharjah' 'India' '8 wickets' 'Sri Lanka']\n",
            " [1997 'ODI' 'Sri Lanka' 'Colombo (RPS)' 'Sri Lanka' '8 wickets' 'India']\n",
            " [2000 'ODI' 'Bangladesh' 'Dhaka' 'Pakistan' '39 runs' 'Sri Lanka']\n",
            " [2004 'ODI' 'Sri Lanka' 'Colombo (RPS)' 'Sri Lanka' '25 runs' 'India']\n",
            " [2008 'T20I' 'Pakistan' 'Karachi' 'Sri Lanka' '100 runs' 'India']\n",
            " [2010 'ODI' 'Sri Lanka' 'Dambulla' 'India' '81 runs' 'Sri Lanka']\n",
            " [2012 'ODI' 'Bangladesh' 'Mirpur' 'Pakistan' '2 runs' 'Bangladesh']\n",
            " [2014 'ODI' 'Bangladesh' 'Mirpur' 'Sri Lanka' '5 wickets' 'Pakistan']\n",
            " [2016 'T20I' 'Bangladesh' 'Mirpur' 'India' '8 wickets' 'Bangladesh']]\n",
            "[[1984 1986 1988 1991 1995 1997 2000 2004 2008 2010 2012 2014 2016]\n",
            " ['ODI' 'ODI' 'ODI' 'ODI' 'T20I' 'ODI' 'ODI' 'ODI' 'T20I' 'ODI' 'ODI'\n",
            "  'ODI' 'T20I']\n",
            " ['UAE' 'Sri Lanka' 'Bangladesh' 'India' 'UAE' 'Sri Lanka' 'Bangladesh'\n",
            "  'Sri Lanka' 'Pakistan' 'Sri Lanka' 'Bangladesh' 'Bangladesh'\n",
            "  'Bangladesh']\n",
            " ['Sharjah' 'Colombo (SSC)' 'Dhaka' 'Kolkata' 'Sharjah' 'Colombo (RPS)'\n",
            "  'Dhaka' 'Colombo (RPS)' 'Karachi' 'Dambulla' 'Mirpur' 'Mirpur' 'Mirpur']\n",
            " ['India' 'Sri Lanka' 'India' 'India' 'India' 'Sri Lanka' 'Pakistan'\n",
            "  'Sri Lanka' 'Sri Lanka' 'India' 'Pakistan' 'Sri Lanka' 'India']\n",
            " ['54 runs' '5 wickets' '6 wickets' '7 wickets' '8 wickets' '8 wickets'\n",
            "  '39 runs' '25 runs' '100 runs' '81 runs' '2 runs' '5 wickets'\n",
            "  '8 wickets']\n",
            " ['Pakistan' 'Pakistan' 'Sri Lanka' 'Sri Lanka' 'Sri Lanka' 'India'\n",
            "  'Sri Lanka' 'India' 'India' 'Sri Lanka' 'Bangladesh' 'Pakistan'\n",
            "  'Bangladesh']]\n"
          ]
        }
      ]
    },
    {
      "cell_type": "markdown",
      "source": [
        "Q.5)Convert in List and Dictionary"
      ],
      "metadata": {
        "id": "TGgpqTtZbG_D"
      }
    },
    {
      "cell_type": "code",
      "source": [
        "# in list and dict\n",
        "import pandas as pd\n",
        "df = pd.read_csv('/content/dataset1.csv')\n",
        "a = df\n",
        "\n",
        "print(a.values.tolist())\n",
        "\n",
        "b = df.to_dict()\n",
        "print(b)"
      ],
      "metadata": {
        "colab": {
          "base_uri": "https://localhost:8080/"
        },
        "id": "_rgW1FLRWHqv",
        "outputId": "aa243297-63f0-48ae-954e-2397014a5f91"
      },
      "execution_count": null,
      "outputs": [
        {
          "output_type": "stream",
          "name": "stdout",
          "text": [
            "[[1984, 'ODI', 'UAE', 'Sharjah', 'India', '54 runs', 'Pakistan'], [1986, 'ODI', 'Sri Lanka', 'Colombo (SSC)', 'Sri Lanka', '5 wickets', 'Pakistan'], [1988, 'ODI', 'Bangladesh', 'Dhaka', 'India', '6 wickets', 'Sri Lanka'], [1991, 'ODI', 'India', 'Kolkata', 'India', '7 wickets', 'Sri Lanka'], [1995, 'T20I', 'UAE', 'Sharjah', 'India', '8 wickets', 'Sri Lanka'], [1997, 'ODI', 'Sri Lanka', 'Colombo (RPS)', 'Sri Lanka', '8 wickets', 'India'], [2000, 'ODI', 'Bangladesh', 'Dhaka', 'Pakistan', '39 runs', 'Sri Lanka'], [2004, 'ODI', 'Sri Lanka', 'Colombo (RPS)', 'Sri Lanka', '25 runs', 'India'], [2008, 'T20I', 'Pakistan', 'Karachi', 'Sri Lanka', '100 runs', 'India'], [2010, 'ODI', 'Sri Lanka', 'Dambulla', 'India', '81 runs', 'Sri Lanka'], [2012, 'ODI', 'Bangladesh', 'Mirpur', 'Pakistan', '2 runs', 'Bangladesh'], [2014, 'ODI', 'Bangladesh', 'Mirpur', 'Sri Lanka', '5 wickets', 'Pakistan'], [2016, 'T20I', 'Bangladesh', 'Mirpur', 'India', '8 wickets', 'Bangladesh']]\n",
            "{'Year': {0: 1984, 1: 1986, 2: 1988, 3: 1991, 4: 1995, 5: 1997, 6: 2000, 7: 2004, 8: 2008, 9: 2010, 10: 2012, 11: 2014, 12: 2016}, 'Format': {0: 'ODI', 1: 'ODI', 2: 'ODI', 3: 'ODI', 4: 'T20I', 5: 'ODI', 6: 'ODI', 7: 'ODI', 8: 'T20I', 9: 'ODI', 10: 'ODI', 11: 'ODI', 12: 'T20I'}, 'Host': {0: 'UAE', 1: 'Sri Lanka', 2: 'Bangladesh', 3: 'India', 4: 'UAE', 5: 'Sri Lanka', 6: 'Bangladesh', 7: 'Sri Lanka', 8: 'Pakistan', 9: 'Sri Lanka', 10: 'Bangladesh', 11: 'Bangladesh', 12: 'Bangladesh'}, 'Final Venue': {0: 'Sharjah', 1: 'Colombo (SSC)', 2: 'Dhaka', 3: 'Kolkata', 4: 'Sharjah', 5: 'Colombo (RPS)', 6: 'Dhaka', 7: 'Colombo (RPS)', 8: 'Karachi', 9: 'Dambulla', 10: 'Mirpur', 11: 'Mirpur', 12: 'Mirpur'}, 'Winner': {0: 'India', 1: 'Sri Lanka', 2: 'India', 3: 'India', 4: 'India', 5: 'Sri Lanka', 6: 'Pakistan', 7: 'Sri Lanka', 8: 'Sri Lanka', 9: 'India', 10: 'Pakistan', 11: 'Sri Lanka', 12: 'India'}, 'Margin': {0: '54 runs', 1: '5 wickets', 2: '6 wickets', 3: '7 wickets', 4: '8 wickets', 5: '8 wickets', 6: '39 runs', 7: '25 runs', 8: '100 runs', 9: '81 runs', 10: '2 runs', 11: '5 wickets', 12: '8 wickets'}, 'Runner up': {0: 'Pakistan', 1: 'Pakistan', 2: 'Sri Lanka', 3: 'Sri Lanka', 4: 'Sri Lanka', 5: 'India', 6: 'Sri Lanka', 7: 'India', 8: 'India', 9: 'Sri Lanka', 10: 'Bangladesh', 11: 'Pakistan', 12: 'Bangladesh'}}\n"
          ]
        }
      ]
    },
    {
      "cell_type": "markdown",
      "source": [
        "Q.6)In Dataframe."
      ],
      "metadata": {
        "id": "aai5m1-Vbd3o"
      }
    },
    {
      "cell_type": "code",
      "source": [
        "import pandas as pd\n",
        "df = pd.read_csv('/content/dataset1.csv')\n",
        "b = pd.DataFrame(df)\n",
        "print(b)"
      ],
      "metadata": {
        "colab": {
          "base_uri": "https://localhost:8080/"
        },
        "id": "SKJVCYXLWj6v",
        "outputId": "9856a6b3-ac82-479e-eb91-6cb73c9af10d"
      },
      "execution_count": null,
      "outputs": [
        {
          "output_type": "stream",
          "name": "stdout",
          "text": [
            "    Year Format        Host    Final Venue     Winner     Margin   Runner up\n",
            "0   1984    ODI         UAE        Sharjah      India    54 runs    Pakistan\n",
            "1   1986    ODI   Sri Lanka  Colombo (SSC)  Sri Lanka  5 wickets    Pakistan\n",
            "2   1988    ODI  Bangladesh          Dhaka      India  6 wickets   Sri Lanka\n",
            "3   1991    ODI       India        Kolkata      India  7 wickets   Sri Lanka\n",
            "4   1995   T20I         UAE        Sharjah      India  8 wickets   Sri Lanka\n",
            "5   1997    ODI   Sri Lanka  Colombo (RPS)  Sri Lanka  8 wickets       India\n",
            "6   2000    ODI  Bangladesh          Dhaka   Pakistan    39 runs   Sri Lanka\n",
            "7   2004    ODI   Sri Lanka  Colombo (RPS)  Sri Lanka    25 runs       India\n",
            "8   2008   T20I    Pakistan        Karachi  Sri Lanka   100 runs       India\n",
            "9   2010    ODI   Sri Lanka       Dambulla      India    81 runs   Sri Lanka\n",
            "10  2012    ODI  Bangladesh         Mirpur   Pakistan     2 runs  Bangladesh\n",
            "11  2014    ODI  Bangladesh         Mirpur  Sri Lanka  5 wickets    Pakistan\n",
            "12  2016   T20I  Bangladesh         Mirpur      India  8 wickets  Bangladesh\n"
          ]
        }
      ]
    },
    {
      "cell_type": "markdown",
      "source": [
        "Q.7)Display particular columns"
      ],
      "metadata": {
        "id": "L3g16Rz3btCa"
      }
    },
    {
      "cell_type": "code",
      "source": [
        "print(b[['Host','Winner']])\n",
        "g = df.columns.tolist()\n",
        "print(g)"
      ],
      "metadata": {
        "colab": {
          "base_uri": "https://localhost:8080/"
        },
        "id": "1llvlSCbYZRi",
        "outputId": "6606c4b8-f4dd-44eb-a23e-41cda8bf1fa0"
      },
      "execution_count": null,
      "outputs": [
        {
          "output_type": "stream",
          "name": "stdout",
          "text": [
            "          Host     Winner\n",
            "0          UAE      India\n",
            "1    Sri Lanka  Sri Lanka\n",
            "2   Bangladesh      India\n",
            "3        India      India\n",
            "4          UAE      India\n",
            "5    Sri Lanka  Sri Lanka\n",
            "6   Bangladesh   Pakistan\n",
            "7    Sri Lanka  Sri Lanka\n",
            "8     Pakistan  Sri Lanka\n",
            "9    Sri Lanka      India\n",
            "10  Bangladesh   Pakistan\n",
            "11  Bangladesh  Sri Lanka\n",
            "12  Bangladesh      India\n",
            "['Year', 'Format', 'Host', 'Final Venue', 'Winner', 'Margin', 'Runner up']\n"
          ]
        }
      ]
    },
    {
      "cell_type": "markdown",
      "source": [
        "Q.8)Count of Host."
      ],
      "metadata": {
        "id": "c6mOfUjob-wp"
      }
    },
    {
      "cell_type": "code",
      "source": [
        "z=df['Host'].value_counts()\n",
        "print(z)"
      ],
      "metadata": {
        "colab": {
          "base_uri": "https://localhost:8080/"
        },
        "id": "Y5i0dUBeYpVc",
        "outputId": "b5d98abd-bfe8-4456-d1b5-610f2563572e"
      },
      "execution_count": null,
      "outputs": [
        {
          "output_type": "stream",
          "name": "stdout",
          "text": [
            "Bangladesh    5\n",
            "Sri Lanka     4\n",
            "UAE           2\n",
            "India         1\n",
            "Pakistan      1\n",
            "Name: Host, dtype: int64\n"
          ]
        }
      ]
    },
    {
      "cell_type": "code",
      "source": [
        "x=df['Host'].value_counts()[0]\n",
        "print(x)"
      ],
      "metadata": {
        "colab": {
          "base_uri": "https://localhost:8080/"
        },
        "id": "DClKAO7KY8jH",
        "outputId": "78a71ba5-0b0c-406a-f2de-93bf6a1c5cc7"
      },
      "execution_count": null,
      "outputs": [
        {
          "output_type": "stream",
          "name": "stdout",
          "text": [
            "5\n"
          ]
        }
      ]
    }
  ]
}